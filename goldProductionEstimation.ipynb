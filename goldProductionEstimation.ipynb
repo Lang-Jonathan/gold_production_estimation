{
 "cells": [
  {
   "cell_type": "code",
   "execution_count": 1,
   "id": "charged-reach",
   "metadata": {},
   "outputs": [
    {
     "data": {
      "text/html": [
       "<script>\n",
       "var code_show_err = false; \n",
       "var code_toggle_err = function() {\n",
       " var stderrNodes = document.querySelectorAll('[data-mime-type=\"application/vnd.jupyter.stderr\"]')\n",
       " var stderr = Array.from(stderrNodes)\n",
       " if (code_show_err){\n",
       "     stderr.forEach(ele => ele.style.display = 'block');\n",
       " } else {\n",
       "     stderr.forEach(ele => ele.style.display = 'none');\n",
       " }\n",
       " code_show_err = !code_show_err\n",
       "} \n",
       "document.addEventListener('DOMContentLoaded', code_toggle_err);\n",
       "</script>\n",
       "To toggle on/off output_stderr, click <a onclick=\"javascript:code_toggle_err()\">here</a>."
      ],
      "text/plain": [
       "<IPython.core.display.HTML object>"
      ]
     },
     "execution_count": 1,
     "metadata": {},
     "output_type": "execute_result"
    }
   ],
   "source": [
    "from IPython.display import Image\n",
    "from IPython.core.display import HTML \n",
    "\n",
    "\n",
    "# Activate autocomplete\n",
    "%config Completer.use_jedi = False\n",
    "\n",
    "# Use the button below to toggle warnings\n",
    "from IPython.display import HTML\n",
    "HTML('''<script>\n",
    "var code_show_err = false; \n",
    "var code_toggle_err = function() {\n",
    " var stderrNodes = document.querySelectorAll('[data-mime-type=\"application/vnd.jupyter.stderr\"]')\n",
    " var stderr = Array.from(stderrNodes)\n",
    " if (code_show_err){\n",
    "     stderr.forEach(ele => ele.style.display = 'block');\n",
    " } else {\n",
    "     stderr.forEach(ele => ele.style.display = 'none');\n",
    " }\n",
    " code_show_err = !code_show_err\n",
    "} \n",
    "document.addEventListener('DOMContentLoaded', code_toggle_err);\n",
    "</script>\n",
    "To toggle on/off output_stderr, click <a onclick=\"javascript:code_toggle_err()\">here</a>.''')"
   ]
  },
  {
   "cell_type": "markdown",
   "id": "personal-modeling",
   "metadata": {},
   "source": [
    "# TOC\n",
    "- [Project description](#Project-description)\n",
    "- [General description of the technological Process](#General-description-of-the-technological-Process)\n",
    "- [Data description](#Data-description)\n",
    "- [1. Data Inspection and preprocessing](#1.-Data-Inspection-and-preprocessing)\n",
    "    * [1.1. Check recovery calculation flotation](#1.1.-Check-recovery-calculation-flotation)\n",
    "    * [1.2. Missing features in the testset](#1.2.-Missing-features-in-the-testset)\n",
    "    * [1.3. Data preprocessing](#1.3.-Data-preprocessing)\n",
    "        + [1.3.1. Inspecting date columns of dataframes](#1.3.1.-Inspecting-date-columns-of-dataframes)\n",
    "        + [1.3.2. Converting to datetime](#1.3.2.-Converting-to-datetime)\n",
    "            - [1.3.2.1. Fixing datetime distortion in full df](#1.3.2.1.-Fixing-datetime-distortion-in-full-df)\n",
    "            - [1.3.2.2. Fixing datetime distortion in train df](#1.3.2.2.-Fixing-datetime-distortion-in-train-df)\n",
    "            - [1.3.2.3. Fixing datetime distortion in test df](#1.3.2.3.-Fixing-datetime-distortion-in-test-df)\n",
    "        + [1.3.3. Setting the time as index](#1.3.3.-Setting-the-time-as-index)\n",
    "        + [1.3.4. Filling missing / 0 values](#1.3.4.-Filling-missing-/-0-values)\n",
    "        + [1.3.5. Adding targets to test dataset](#1.3.5.-Adding-targets-to-test-dataset)\n",
    "- [2. Analyzing the data](#2.-Analyzing-the-data)\n",
    "    * [2.1. Metal concentration over purification stages](#2.1.-Metal-concentration-over-purification-stages)\n",
    "    * [2.2. Particle size distribution of test and train set](#2.2.-Particle-size-distribution-of-test-and-train-set)\n",
    "    * [2.3. Substances through purification stages](#2.3.-Substances-through-purification-stages)\n",
    "- [3. Build the model](#3.-Build-the-model)\n",
    "    * [3.1. Write a function to calculate the final sMAPE value.](#3.1.-Write-a-function-to-calculate-the-final-sMAPE-value.)\n",
    "    * [3.2. Preparing the dataframe, slicing features and targets](#3.2.-Preparing-the-dataframe,-slicing-features-and-targets)\n",
    "        + [3.2.1. Dropping features](#3.2.1.-Dropping-features)\n",
    "        + [3.2.2. Seperating dataframe](#3.2.2.-Seperating-dataframe)\n",
    "        + [3.2.3. Train and Test split for dataframes](#3.2.3.-Train-and-Test-split-for-dataframes)\n",
    "            - [3.2.3.1. With seperated dataframes](#3.2.3.1.-With-seperated-dataframes)\n",
    "            - [3.2.3.2. With one dataframe](#3.2.3.2.-With-one-dataframe)\n",
    "    * [3.3. Train different models](#3.3.-Train-different-models)\n",
    "        + [3.3.1. Model evaluation rougher](#3.3.1.-Model-evaluation-rougher)\n",
    "            - [3.3.1.1. Separated dataframes](#3.3.1.1.-Separated-dataframes)\n",
    "            - [3.3.1.2. Combined dataframe](#3.3.1.2.-Combined-dataframe)\n",
    "        + [3.3.2 Model evaluation cleaner](#3.3.2-Model-evaluation-cleaner)\n",
    "            - [3.3.2.1. Separated dataframes](#3.3.2.1.-Separated-dataframes)\n",
    "            - [3.3.2.2.. Combined dataframes](#3.3.2.2..-Combined-dataframes)\n",
    "    * [3.4. Final evaluation](#3.4.-Final-evaluation)\n",
    "        + [3.4.1. Rougher](#3.4.1.-Rougher)\n",
    "        + [3.4.2. Flotation](#3.4.2.-Flotation)\n",
    "        + [3.4.3. Combined](#3.4.3.-Combined)\n",
    "- [4. Coclusion](#4.-Coclusion)"
   ]
  },
  {
   "cell_type": "markdown",
   "id": "former-stereo",
   "metadata": {},
   "source": [
    "# Project description\n",
    "Prepare a prototype of a machine learning model for Zyfra. The company develops efficiency solutions for heavy industry.  \n",
    "The model should predict the amount of gold recovered from gold ore. You have the data on extraction and purification.  \n",
    "The model will help to optimize the production and eliminate unprofitable parameters.  \n",
    "Therefore in this project the following steps have to be carried out:\n",
    "- Prepare the data;  \n",
    "- Perform data analysis;  \n",
    "- Develop and train a model.  "
   ]
  },
  {
   "cell_type": "markdown",
   "id": "twelve-behalf",
   "metadata": {},
   "source": [
    "# General description of the technological Process\n",
    "Mined ore undergoes primary processing to get the ore mixture or rougher feed, which is the raw material for flotation (also known as the rougher process). After flotation, the material is sent to two-stage purification."
   ]
  },
  {
   "cell_type": "code",
   "execution_count": 2,
   "id": "individual-hartford",
   "metadata": {},
   "outputs": [
    {
     "data": {
      "text/html": [
       "<img src=\"https://pictures.s3.yandex.net/resources/ore_1591699963.jpg\" width=\"800\"/>"
      ],
      "text/plain": [
       "<IPython.core.display.Image object>"
      ]
     },
     "execution_count": 2,
     "metadata": {},
     "output_type": "execute_result"
    }
   ],
   "source": [
    "Image(url= \"https://pictures.s3.yandex.net/resources/ore_1591699963.jpg\", width=800)"
   ]
  },
  {
   "cell_type": "markdown",
   "id": "criminal-control",
   "metadata": {},
   "source": [
    "# Data description\n",
    "**Technological process**\n",
    "> - Rougher feed — raw material  \n",
    "> - Rougher additions (or reagent additions) — flotation reagents: Xanthate, Sulphate, Depressant  \n",
    "> - Xanthate — promoter or flotation activator;  \n",
    "> - Sulphate — sodium sulphide for this particular process;  \n",
    "> - Depressant — sodium silicate.  \n",
    "> - Rougher process — flotation  \n",
    "> - Rougher tails — product residues  \n",
    "> - Float banks — flotation unit  \n",
    "> - Cleaner process — purification  \n",
    "> - Rougher Au — rougher gold concentrate  \n",
    "> - Final Au — final gold concentrate  \n",
    "> - Parameters of stages  \n",
    "> - air amount — volume of air  \n",
    "> - fluid levels  \n",
    "> - feed size — feed particle size  \n",
    "> - feed rate  \n",
    "\n",
    "**Feature naming**   \n",
    "> - [stage].[parameter_type].[parameter_name]  \n",
    "> - Example: rougher.input.feed_ag  \n",
    "> - Possible values for [stage]:  \n",
    "> - rougher — flotation  \n",
    "> - primary_cleaner — primary purification  \n",
    "> - secondary_cleaner — secondary purification  \n",
    "> - final — final characteristics  \n",
    "> - Possible values for [parameter_type]:  \n",
    "> - input — raw material parameters  \n",
    "> - output — product parameters  \n",
    "> - state — parameters characterizing the current state of the stage  \n",
    "> - calculation — calculation characteristics  "
   ]
  },
  {
   "cell_type": "code",
   "execution_count": 3,
   "id": "rental-pocket",
   "metadata": {},
   "outputs": [
    {
     "name": "stderr",
     "output_type": "stream",
     "text": [
      "C:\\Users\\JonathanLang\\.conda\\envs\\practicum\\lib\\site-packages\\numpy\\_distributor_init.py:32: UserWarning: loaded more than 1 DLL from .libs:\n",
      "C:\\Users\\JonathanLang\\.conda\\envs\\practicum\\lib\\site-packages\\numpy\\.libs\\libopenblas.PYQHXLVVQ7VESDPUVUADXEVJOBGHJPAY.gfortran-win_amd64.dll\n",
      "C:\\Users\\JonathanLang\\.conda\\envs\\practicum\\lib\\site-packages\\numpy\\.libs\\libopenblas.WCDJNK7YVMPZQ2ME2ZZHJJRJ3JIKNDB7.gfortran-win_amd64.dll\n",
      "  stacklevel=1)\n",
      "C:\\Users\\JonathanLang\\.conda\\envs\\practicum\\lib\\site-packages\\statsmodels\\tools\\_testing.py:19: FutureWarning: pandas.util.testing is deprecated. Use the functions in the public API at pandas.testing instead.\n",
      "  import pandas.util.testing as tm\n"
     ]
    }
   ],
   "source": [
    "import warnings\n",
    "from collections import defaultdict\n",
    "\n",
    "# Data manipulating and plotting imports\n",
    "import pandas as pd \n",
    "import numpy as np\n",
    "import matplotlib.pyplot as plt \n",
    "from scipy import stats as st\n",
    "import seaborn as sns\n",
    "%matplotlib inline\n",
    "\n",
    "# ML import\n",
    "\n",
    "warnings.filterwarnings(\"ignore\")  \n",
    "# Scaling\n",
    "from sklearn.preprocessing import StandardScaler\n",
    "\n",
    "# Models\n",
    "from sklearn.linear_model import LinearRegression\n",
    "from sklearn.neighbors import KNeighborsRegressor\n",
    "from sklearn.ensemble import GradientBoostingRegressor\n",
    "from sklearn.ensemble import RandomForestRegressor\n",
    "\n",
    "# Cross valid\n",
    "from sklearn.model_selection import RandomizedSearchCV\n",
    "from sklearn.model_selection import train_test_split\n",
    "from sklearn.model_selection import GridSearchCV\n",
    "from sklearn.model_selection import cross_val_score\n",
    "from sklearn.model_selection import KFold\n",
    "from sklearn.pipeline import Pipeline\n",
    "\n",
    "from sklearn.metrics import make_scorer\n",
    "from sklearn.metrics import mean_absolute_error\n",
    "from sklearn.dummy import DummyRegressor\n",
    "import joblib\n",
    "    \n",
    "    \n",
    "# Constants\n",
    "RANDOM_STATE = 42\n",
    "METALS = ['ag', 'au', 'pb']\n",
    "\n",
    "try:\n",
    "    df_train = pd.read_csv('./datasets/gold_recovery_train.csv')\n",
    "    df_test = pd.read_csv('./datasets/gold_recovery_test.csv')\n",
    "    df_full = pd.read_csv('./datasets/gold_recovery_full.csv')\n",
    "except:\n",
    "    df_train = pd.read_csv('https://code.s3.yandex.net/datasets/gold_recovery_train.csv')\n",
    "    df_test = pd.read_csv('https://code.s3.yandex.net/datasets/gold_recovery_test.csv')\n",
    "    df_full = pd.read_csv('https://code.s3.yandex.net/datasets/gold_recovery_full.csv')"
   ]
  },
  {
   "cell_type": "code",
   "execution_count": 4,
   "id": "deadly-daughter",
   "metadata": {
    "scrolled": true
   },
   "outputs": [
    {
     "name": "stdout",
     "output_type": "stream",
     "text": [
      "<class 'pandas.core.frame.DataFrame'>\n",
      "RangeIndex: 22716 entries, 0 to 22715\n",
      "Data columns (total 87 columns):\n",
      " #   Column                                              Non-Null Count  Dtype  \n",
      "---  ------                                              --------------  -----  \n",
      " 0   date                                                22716 non-null  object \n",
      " 1   final.output.concentrate_ag                         22627 non-null  float64\n",
      " 2   final.output.concentrate_pb                         22629 non-null  float64\n",
      " 3   final.output.concentrate_sol                        22331 non-null  float64\n",
      " 4   final.output.concentrate_au                         22630 non-null  float64\n",
      " 5   final.output.recovery                               20753 non-null  float64\n",
      " 6   final.output.tail_ag                                22633 non-null  float64\n",
      " 7   final.output.tail_pb                                22516 non-null  float64\n",
      " 8   final.output.tail_sol                               22445 non-null  float64\n",
      " 9   final.output.tail_au                                22635 non-null  float64\n",
      " 10  primary_cleaner.input.sulfate                       21107 non-null  float64\n",
      " 11  primary_cleaner.input.depressant                    21170 non-null  float64\n",
      " 12  primary_cleaner.input.feed_size                     22716 non-null  float64\n",
      " 13  primary_cleaner.input.xanthate                      21565 non-null  float64\n",
      " 14  primary_cleaner.output.concentrate_ag               22618 non-null  float64\n",
      " 15  primary_cleaner.output.concentrate_pb               22268 non-null  float64\n",
      " 16  primary_cleaner.output.concentrate_sol              21918 non-null  float64\n",
      " 17  primary_cleaner.output.concentrate_au               22618 non-null  float64\n",
      " 18  primary_cleaner.output.tail_ag                      22614 non-null  float64\n",
      " 19  primary_cleaner.output.tail_pb                      22594 non-null  float64\n",
      " 20  primary_cleaner.output.tail_sol                     22365 non-null  float64\n",
      " 21  primary_cleaner.output.tail_au                      22617 non-null  float64\n",
      " 22  primary_cleaner.state.floatbank8_a_air              22660 non-null  float64\n",
      " 23  primary_cleaner.state.floatbank8_a_level            22667 non-null  float64\n",
      " 24  primary_cleaner.state.floatbank8_b_air              22660 non-null  float64\n",
      " 25  primary_cleaner.state.floatbank8_b_level            22673 non-null  float64\n",
      " 26  primary_cleaner.state.floatbank8_c_air              22662 non-null  float64\n",
      " 27  primary_cleaner.state.floatbank8_c_level            22673 non-null  float64\n",
      " 28  primary_cleaner.state.floatbank8_d_air              22661 non-null  float64\n",
      " 29  primary_cleaner.state.floatbank8_d_level            22673 non-null  float64\n",
      " 30  rougher.calculation.sulfate_to_au_concentrate       22672 non-null  float64\n",
      " 31  rougher.calculation.floatbank10_sulfate_to_au_feed  22672 non-null  float64\n",
      " 32  rougher.calculation.floatbank11_sulfate_to_au_feed  22672 non-null  float64\n",
      " 33  rougher.calculation.au_pb_ratio                     21089 non-null  float64\n",
      " 34  rougher.input.feed_ag                               22618 non-null  float64\n",
      " 35  rougher.input.feed_pb                               22472 non-null  float64\n",
      " 36  rougher.input.feed_rate                             22163 non-null  float64\n",
      " 37  rougher.input.feed_size                             22277 non-null  float64\n",
      " 38  rougher.input.feed_sol                              22357 non-null  float64\n",
      " 39  rougher.input.feed_au                               22617 non-null  float64\n",
      " 40  rougher.input.floatbank10_sulfate                   21415 non-null  float64\n",
      " 41  rougher.input.floatbank10_xanthate                  22247 non-null  float64\n",
      " 42  rougher.input.floatbank11_sulfate                   22038 non-null  float64\n",
      " 43  rougher.input.floatbank11_xanthate                  20459 non-null  float64\n",
      " 44  rougher.output.concentrate_ag                       22618 non-null  float64\n",
      " 45  rougher.output.concentrate_pb                       22618 non-null  float64\n",
      " 46  rougher.output.concentrate_sol                      22526 non-null  float64\n",
      " 47  rougher.output.concentrate_au                       22618 non-null  float64\n",
      " 48  rougher.output.recovery                             19597 non-null  float64\n",
      " 49  rougher.output.tail_ag                              19979 non-null  float64\n",
      " 50  rougher.output.tail_pb                              22618 non-null  float64\n",
      " 51  rougher.output.tail_sol                             19980 non-null  float64\n",
      " 52  rougher.output.tail_au                              19980 non-null  float64\n",
      " 53  rougher.state.floatbank10_a_air                     22646 non-null  float64\n",
      " 54  rougher.state.floatbank10_a_level                   22647 non-null  float64\n",
      " 55  rougher.state.floatbank10_b_air                     22646 non-null  float64\n",
      " 56  rougher.state.floatbank10_b_level                   22647 non-null  float64\n",
      " 57  rougher.state.floatbank10_c_air                     22646 non-null  float64\n",
      " 58  rougher.state.floatbank10_c_level                   22654 non-null  float64\n",
      " 59  rougher.state.floatbank10_d_air                     22641 non-null  float64\n",
      " 60  rougher.state.floatbank10_d_level                   22649 non-null  float64\n",
      " 61  rougher.state.floatbank10_e_air                     22096 non-null  float64\n",
      " 62  rougher.state.floatbank10_e_level                   22649 non-null  float64\n",
      " 63  rougher.state.floatbank10_f_air                     22641 non-null  float64\n",
      " 64  rougher.state.floatbank10_f_level                   22642 non-null  float64\n",
      " 65  secondary_cleaner.output.tail_ag                    22616 non-null  float64\n",
      " 66  secondary_cleaner.output.tail_pb                    22600 non-null  float64\n",
      " 67  secondary_cleaner.output.tail_sol                   20501 non-null  float64\n",
      " 68  secondary_cleaner.output.tail_au                    22618 non-null  float64\n",
      " 69  secondary_cleaner.state.floatbank2_a_air            22333 non-null  float64\n",
      " 70  secondary_cleaner.state.floatbank2_a_level          22591 non-null  float64\n",
      " 71  secondary_cleaner.state.floatbank2_b_air            22538 non-null  float64\n",
      " 72  secondary_cleaner.state.floatbank2_b_level          22588 non-null  float64\n",
      " 73  secondary_cleaner.state.floatbank3_a_air            22585 non-null  float64\n",
      " 74  secondary_cleaner.state.floatbank3_a_level          22587 non-null  float64\n",
      " 75  secondary_cleaner.state.floatbank3_b_air            22592 non-null  float64\n",
      " 76  secondary_cleaner.state.floatbank3_b_level          22590 non-null  float64\n",
      " 77  secondary_cleaner.state.floatbank4_a_air            22571 non-null  float64\n",
      " 78  secondary_cleaner.state.floatbank4_a_level          22587 non-null  float64\n",
      " 79  secondary_cleaner.state.floatbank4_b_air            22608 non-null  float64\n",
      " 80  secondary_cleaner.state.floatbank4_b_level          22607 non-null  float64\n",
      " 81  secondary_cleaner.state.floatbank5_a_air            22615 non-null  float64\n",
      " 82  secondary_cleaner.state.floatbank5_a_level          22615 non-null  float64\n",
      " 83  secondary_cleaner.state.floatbank5_b_air            22615 non-null  float64\n",
      " 84  secondary_cleaner.state.floatbank5_b_level          22616 non-null  float64\n",
      " 85  secondary_cleaner.state.floatbank6_a_air            22597 non-null  float64\n",
      " 86  secondary_cleaner.state.floatbank6_a_level          22615 non-null  float64\n",
      "dtypes: float64(86), object(1)\n",
      "memory usage: 15.1+ MB\n"
     ]
    }
   ],
   "source": [
    "df_full.info()"
   ]
  },
  {
   "cell_type": "markdown",
   "id": "modular-shopping",
   "metadata": {},
   "source": [
    "# 1. Data Inspection and preprocessing\n",
    "> In this step the data has been prepared for analyzing as well as for training the machine learning model"
   ]
  },
  {
   "cell_type": "markdown",
   "id": "confused-occasion",
   "metadata": {},
   "source": [
    "## 1.1. Check recovery calculation flotation\n",
    "> In this step the recovery for the rougher.output.recovery of the training dataset has been calculated in order to check if the calculation is correct and the measurement of the data within the plant works correctly. \n",
    "> Therefore the the calculation depicted below has been used"
   ]
  },
  {
   "cell_type": "code",
   "execution_count": 5,
   "id": "heard-coast",
   "metadata": {},
   "outputs": [
    {
     "data": {
      "text/html": [
       "<img src=\"https://pictures.s3.yandex.net/resources/Recovery_1576238822_1589899219.jpg\" width=\"500\"/>"
      ],
      "text/plain": [
       "<IPython.core.display.Image object>"
      ]
     },
     "execution_count": 5,
     "metadata": {},
     "output_type": "execute_result"
    }
   ],
   "source": [
    "Image(url= \"https://pictures.s3.yandex.net/resources/Recovery_1576238822_1589899219.jpg\", width=500)"
   ]
  },
  {
   "cell_type": "markdown",
   "id": "amazing-person",
   "metadata": {},
   "source": [
    "**With**\n",
    "> - **C** — share of gold in the concentrate right after flotation\n",
    "> - **F** — share of gold in the feed before flotation \n",
    "> - **T** — share of gold in the rougher tails right after flotation\n",
    "\n",
    "> For this calculation first the rows with NaN values as well as the rows which lead to (-)inf values must be excluded from the calculation beacuse with them a calculation of the MAE is not possible.  \n",
    "> Those cases are (because 0 in denominator):\n",
    "> - F = 0\n",
    "> - (C-T) = 0 \n"
   ]
  },
  {
   "cell_type": "code",
   "execution_count": 6,
   "id": "looking-briefing",
   "metadata": {},
   "outputs": [
    {
     "data": {
      "text/plain": [
       "1159"
      ]
     },
     "execution_count": 6,
     "metadata": {},
     "output_type": "execute_result"
    }
   ],
   "source": [
    "# Checking for the count of  previous mentioned invalid rows\n",
    "((df_train['rougher.input.feed_au'] == 0) | ((df_train['rougher.output.concentrate_au']-df_train['rougher.output.tail_au']) == 0)).sum()"
   ]
  },
  {
   "cell_type": "code",
   "execution_count": 7,
   "id": "dramatic-yellow",
   "metadata": {},
   "outputs": [
    {
     "data": {
      "text/plain": [
       "99      NaN\n",
       "100     NaN\n",
       "101     NaN\n",
       "102     NaN\n",
       "103     NaN\n",
       "         ..\n",
       "12052   NaN\n",
       "12053   NaN\n",
       "12054   NaN\n",
       "12055   NaN\n",
       "12056   NaN\n",
       "Name: rougher.output.recovery, Length: 1159, dtype: float64"
      ]
     },
     "execution_count": 7,
     "metadata": {},
     "output_type": "execute_result"
    }
   ],
   "source": [
    "df_train[df_train['rougher.input.feed_au'] == 0]['rougher.output.recovery']"
   ]
  },
  {
   "cell_type": "markdown",
   "id": "square-poetry",
   "metadata": {},
   "source": [
    "> **Observation:**\n",
    "> - All values which have eg C=0 as parameter have NaN values in the dataset anyway, this eases the slicing of the data for the caluclation in the next step"
   ]
  },
  {
   "cell_type": "code",
   "execution_count": 8,
   "id": "hungarian-gazette",
   "metadata": {},
   "outputs": [],
   "source": [
    "# Creating mask for comparable recoveries\n",
    "mask_val = df_train[(df_train['rougher.output.concentrate_au'].isna() == False) & \\\n",
    "                    (df_train['rougher.input.feed_au'].isna() == False) & \\\n",
    "                    (df_train['rougher.output.tail_au'].isna() == False) & \\\n",
    "                    (df_train['rougher.output.recovery'].isna() == False) & \\\n",
    "                    (df_train['rougher.output.concentrate_au'] > 0) & \\\n",
    "                    (df_train['rougher.output.concentrate_au'] != \\\n",
    "                        df_train['rougher.output.tail_au']) & \\\n",
    "                    (df_train['rougher.input.feed_au'] > 0)\n",
    "                   ].index\n",
    "\n",
    "# Slicing crucial parameter\n",
    "C = df_train.loc[mask_val, 'rougher.output.concentrate_au']\n",
    "F = df_train.loc[mask_val, 'rougher.input.feed_au']\n",
    "T = df_train.loc[mask_val, 'rougher.output.tail_au']\n",
    "R_rough_df = df_train.loc[mask_val, 'rougher.output.recovery']"
   ]
  },
  {
   "cell_type": "code",
   "execution_count": 9,
   "id": "heated-break",
   "metadata": {},
   "outputs": [
    {
     "name": "stdout",
     "output_type": "stream",
     "text": [
      "<class 'pandas.core.frame.DataFrame'>\n",
      "Int64Index: 13967 entries, 0 to 16859\n",
      "Data columns (total 3 columns):\n",
      " #   Column  Non-Null Count  Dtype  \n",
      "---  ------  --------------  -----  \n",
      " 0   C       13967 non-null  float64\n",
      " 1   F       13967 non-null  float64\n",
      " 2   T       13967 non-null  float64\n",
      "dtypes: float64(3)\n",
      "memory usage: 436.5 KB\n"
     ]
    }
   ],
   "source": [
    "# Investigating if there are any NaN values \n",
    "pd.DataFrame.from_dict({'C': C, 'F': F,'T': T}).info()"
   ]
  },
  {
   "cell_type": "code",
   "execution_count": 10,
   "id": "russian-shannon",
   "metadata": {},
   "outputs": [
    {
     "name": "stdout",
     "output_type": "stream",
     "text": [
      "The MAE for the floatation process is 9.52e-15\n"
     ]
    }
   ],
   "source": [
    "# Calculating recovery and calculating MAE\n",
    "R_roug_calc = ((C * (F - T)) / (F * (C- T))) * 100\n",
    "mae_r_rough = mean_absolute_error(R_rough_df, R_roug_calc)\n",
    "print('The MAE for the floatation process is {:.2e}'.format(mae_r_rough))"
   ]
  },
  {
   "cell_type": "markdown",
   "id": "canadian-kitty",
   "metadata": {},
   "source": [
    "> **Observations:**\n",
    "> - A MAE of round about 9.52e-15 is very low, so the formula is quite accurate for the flotation process\n"
   ]
  },
  {
   "cell_type": "markdown",
   "id": "confidential-commercial",
   "metadata": {},
   "source": [
    "## 1.2. Missing features in the testset\n",
    "> In this tep the previous detected missing valus have been investigated. "
   ]
  },
  {
   "cell_type": "code",
   "execution_count": 11,
   "id": "positive-prague",
   "metadata": {
    "scrolled": true
   },
   "outputs": [
    {
     "name": "stdout",
     "output_type": "stream",
     "text": [
      "<class 'pandas.core.frame.DataFrame'>\n",
      "RangeIndex: 16860 entries, 0 to 16859\n",
      "Data columns (total 34 columns):\n",
      " #   Column                                              Non-Null Count  Dtype  \n",
      "---  ------                                              --------------  -----  \n",
      " 0   final.output.concentrate_ag                         16788 non-null  float64\n",
      " 1   final.output.concentrate_pb                         16788 non-null  float64\n",
      " 2   final.output.concentrate_sol                        16490 non-null  float64\n",
      " 3   final.output.concentrate_au                         16789 non-null  float64\n",
      " 4   final.output.recovery                               15339 non-null  float64\n",
      " 5   final.output.tail_ag                                16794 non-null  float64\n",
      " 6   final.output.tail_pb                                16677 non-null  float64\n",
      " 7   final.output.tail_sol                               16715 non-null  float64\n",
      " 8   final.output.tail_au                                16794 non-null  float64\n",
      " 9   primary_cleaner.output.concentrate_ag               16778 non-null  float64\n",
      " 10  primary_cleaner.output.concentrate_pb               16502 non-null  float64\n",
      " 11  primary_cleaner.output.concentrate_sol              16224 non-null  float64\n",
      " 12  primary_cleaner.output.concentrate_au               16778 non-null  float64\n",
      " 13  primary_cleaner.output.tail_ag                      16777 non-null  float64\n",
      " 14  primary_cleaner.output.tail_pb                      16761 non-null  float64\n",
      " 15  primary_cleaner.output.tail_sol                     16579 non-null  float64\n",
      " 16  primary_cleaner.output.tail_au                      16777 non-null  float64\n",
      " 17  rougher.calculation.sulfate_to_au_concentrate       16833 non-null  float64\n",
      " 18  rougher.calculation.floatbank10_sulfate_to_au_feed  16833 non-null  float64\n",
      " 19  rougher.calculation.floatbank11_sulfate_to_au_feed  16833 non-null  float64\n",
      " 20  rougher.calculation.au_pb_ratio                     15618 non-null  float64\n",
      " 21  rougher.output.concentrate_ag                       16778 non-null  float64\n",
      " 22  rougher.output.concentrate_pb                       16778 non-null  float64\n",
      " 23  rougher.output.concentrate_sol                      16698 non-null  float64\n",
      " 24  rougher.output.concentrate_au                       16778 non-null  float64\n",
      " 25  rougher.output.recovery                             14287 non-null  float64\n",
      " 26  rougher.output.tail_ag                              14610 non-null  float64\n",
      " 27  rougher.output.tail_pb                              16778 non-null  float64\n",
      " 28  rougher.output.tail_sol                             14611 non-null  float64\n",
      " 29  rougher.output.tail_au                              14611 non-null  float64\n",
      " 30  secondary_cleaner.output.tail_ag                    16776 non-null  float64\n",
      " 31  secondary_cleaner.output.tail_pb                    16764 non-null  float64\n",
      " 32  secondary_cleaner.output.tail_sol                   14874 non-null  float64\n",
      " 33  secondary_cleaner.output.tail_au                    16778 non-null  float64\n",
      "dtypes: float64(34)\n",
      "memory usage: 4.4 MB\n"
     ]
    }
   ],
   "source": [
    "# Investigating the missing collumns in the testset compared to train set\n",
    "train_cols = set(df_test.columns)\n",
    "diff = [col for col in df_train.columns if col not in train_cols]\n",
    "df_dif = df_train.loc[:,diff]\n",
    "df_dif.info()"
   ]
  },
  {
   "cell_type": "markdown",
   "id": "responsible-affiliate",
   "metadata": {},
   "source": [
    "> **Observations:**  \n",
    "> - The missing features in the test set are the outputs of the steps rougher, primary and secondary cleaner as well as the final outputs for the concentrate and the tail.  \n",
    "> Furthermore the recovery as well as the rougher calculations are not includet in the test set.\n",
    "> - All the missing features are float values"
   ]
  },
  {
   "cell_type": "markdown",
   "id": "functional-winner",
   "metadata": {},
   "source": [
    "## 1.3. Data preprocessing\n",
    "> Due to the fact that some parameters are not available because they were measured and/or calculated much later in the maunfacturing process. That's why, some of the features that are present in the training set may be absent from the test set. The test set also doesn't contain targets.\n",
    "\n",
    "> The abscent data is filled based on the given imput that parameters that are next to each other in terms of time are often similar.  "
   ]
  },
  {
   "cell_type": "markdown",
   "id": "ranging-fishing",
   "metadata": {},
   "source": [
    "### 1.3.1. Inspecting date columns of dataframes\n",
    "> In Order to fill the missing values in the train dataframe and the missing values + features in the train dataframe, the full dataframe has been investigated."
   ]
  },
  {
   "cell_type": "code",
   "execution_count": 12,
   "id": "worse-workstation",
   "metadata": {},
   "outputs": [
    {
     "name": "stdout",
     "output_type": "stream",
     "text": [
      "Datetype of date col: <class 'str'>\n",
      "Datetype of date col: <class 'str'>\n",
      "Datetype of date col: <class 'str'>\n"
     ]
    }
   ],
   "source": [
    "for df in (df_train, df_test, df_full):\n",
    "    date_col_type = type(df.loc[1, 'date'])\n",
    "    print(f'Datetype of date col: {date_col_type}')"
   ]
  },
  {
   "cell_type": "markdown",
   "id": "satisfied-ballet",
   "metadata": {},
   "source": [
    "### 1.3.2. Converting to datetime\n",
    "> Due to the fact that the date collumn is of datatype string, in this step this column has been casted as datetime (Minimal precision of date column is Second)"
   ]
  },
  {
   "cell_type": "code",
   "execution_count": 13,
   "id": "bulgarian-denmark",
   "metadata": {},
   "outputs": [],
   "source": [
    "# Casting strings as datetime \n",
    "for df in (df_train, df_test, df_full):\n",
    "    df['date'] = pd.to_datetime(df['date'].astype(str),\n",
    "                                format='%Y-%m-%d %H:%M:%S')"
   ]
  },
  {
   "cell_type": "markdown",
   "id": "impressed-blowing",
   "metadata": {},
   "source": [
    "> Date columns converted to datetime now"
   ]
  },
  {
   "cell_type": "code",
   "execution_count": 14,
   "id": "coastal-fifty",
   "metadata": {},
   "outputs": [
    {
     "data": {
      "text/html": [
       "<div>\n",
       "<style scoped>\n",
       "    .dataframe tbody tr th:only-of-type {\n",
       "        vertical-align: middle;\n",
       "    }\n",
       "\n",
       "    .dataframe tbody tr th {\n",
       "        vertical-align: top;\n",
       "    }\n",
       "\n",
       "    .dataframe thead th {\n",
       "        text-align: right;\n",
       "    }\n",
       "</style>\n",
       "<table border=\"1\" class=\"dataframe\">\n",
       "  <thead>\n",
       "    <tr style=\"text-align: right;\">\n",
       "      <th></th>\n",
       "      <th>date</th>\n",
       "      <th>final.output.concentrate_ag</th>\n",
       "      <th>final.output.concentrate_pb</th>\n",
       "      <th>final.output.concentrate_sol</th>\n",
       "      <th>final.output.concentrate_au</th>\n",
       "      <th>final.output.recovery</th>\n",
       "      <th>final.output.tail_ag</th>\n",
       "      <th>final.output.tail_pb</th>\n",
       "      <th>final.output.tail_sol</th>\n",
       "      <th>final.output.tail_au</th>\n",
       "      <th>...</th>\n",
       "      <th>secondary_cleaner.state.floatbank4_a_air</th>\n",
       "      <th>secondary_cleaner.state.floatbank4_a_level</th>\n",
       "      <th>secondary_cleaner.state.floatbank4_b_air</th>\n",
       "      <th>secondary_cleaner.state.floatbank4_b_level</th>\n",
       "      <th>secondary_cleaner.state.floatbank5_a_air</th>\n",
       "      <th>secondary_cleaner.state.floatbank5_a_level</th>\n",
       "      <th>secondary_cleaner.state.floatbank5_b_air</th>\n",
       "      <th>secondary_cleaner.state.floatbank5_b_level</th>\n",
       "      <th>secondary_cleaner.state.floatbank6_a_air</th>\n",
       "      <th>secondary_cleaner.state.floatbank6_a_level</th>\n",
       "    </tr>\n",
       "  </thead>\n",
       "  <tbody>\n",
       "    <tr>\n",
       "      <th>0</th>\n",
       "      <td>2016-01-15 00:00:00</td>\n",
       "      <td>6.055403</td>\n",
       "      <td>9.889648</td>\n",
       "      <td>5.507324</td>\n",
       "      <td>42.192020</td>\n",
       "      <td>70.541216</td>\n",
       "      <td>10.411962</td>\n",
       "      <td>0.895447</td>\n",
       "      <td>16.904297</td>\n",
       "      <td>2.143149</td>\n",
       "      <td>...</td>\n",
       "      <td>14.016835</td>\n",
       "      <td>-502.488007</td>\n",
       "      <td>12.099931</td>\n",
       "      <td>-504.715942</td>\n",
       "      <td>9.925633</td>\n",
       "      <td>-498.310211</td>\n",
       "      <td>8.079666</td>\n",
       "      <td>-500.470978</td>\n",
       "      <td>14.151341</td>\n",
       "      <td>-605.841980</td>\n",
       "    </tr>\n",
       "    <tr>\n",
       "      <th>1</th>\n",
       "      <td>2016-01-15 01:00:00</td>\n",
       "      <td>6.029369</td>\n",
       "      <td>9.968944</td>\n",
       "      <td>5.257781</td>\n",
       "      <td>42.701629</td>\n",
       "      <td>69.266198</td>\n",
       "      <td>10.462676</td>\n",
       "      <td>0.927452</td>\n",
       "      <td>16.634514</td>\n",
       "      <td>2.224930</td>\n",
       "      <td>...</td>\n",
       "      <td>13.992281</td>\n",
       "      <td>-505.503262</td>\n",
       "      <td>11.950531</td>\n",
       "      <td>-501.331529</td>\n",
       "      <td>10.039245</td>\n",
       "      <td>-500.169983</td>\n",
       "      <td>7.984757</td>\n",
       "      <td>-500.582168</td>\n",
       "      <td>13.998353</td>\n",
       "      <td>-599.787184</td>\n",
       "    </tr>\n",
       "  </tbody>\n",
       "</table>\n",
       "<p>2 rows × 87 columns</p>\n",
       "</div>"
      ],
      "text/plain": [
       "                 date  final.output.concentrate_ag  \\\n",
       "0 2016-01-15 00:00:00                     6.055403   \n",
       "1 2016-01-15 01:00:00                     6.029369   \n",
       "\n",
       "   final.output.concentrate_pb  final.output.concentrate_sol  \\\n",
       "0                     9.889648                      5.507324   \n",
       "1                     9.968944                      5.257781   \n",
       "\n",
       "   final.output.concentrate_au  final.output.recovery  final.output.tail_ag  \\\n",
       "0                    42.192020              70.541216             10.411962   \n",
       "1                    42.701629              69.266198             10.462676   \n",
       "\n",
       "   final.output.tail_pb  final.output.tail_sol  final.output.tail_au  ...  \\\n",
       "0              0.895447              16.904297              2.143149  ...   \n",
       "1              0.927452              16.634514              2.224930  ...   \n",
       "\n",
       "   secondary_cleaner.state.floatbank4_a_air  \\\n",
       "0                                 14.016835   \n",
       "1                                 13.992281   \n",
       "\n",
       "   secondary_cleaner.state.floatbank4_a_level  \\\n",
       "0                                 -502.488007   \n",
       "1                                 -505.503262   \n",
       "\n",
       "   secondary_cleaner.state.floatbank4_b_air  \\\n",
       "0                                 12.099931   \n",
       "1                                 11.950531   \n",
       "\n",
       "   secondary_cleaner.state.floatbank4_b_level  \\\n",
       "0                                 -504.715942   \n",
       "1                                 -501.331529   \n",
       "\n",
       "   secondary_cleaner.state.floatbank5_a_air  \\\n",
       "0                                  9.925633   \n",
       "1                                 10.039245   \n",
       "\n",
       "   secondary_cleaner.state.floatbank5_a_level  \\\n",
       "0                                 -498.310211   \n",
       "1                                 -500.169983   \n",
       "\n",
       "   secondary_cleaner.state.floatbank5_b_air  \\\n",
       "0                                  8.079666   \n",
       "1                                  7.984757   \n",
       "\n",
       "   secondary_cleaner.state.floatbank5_b_level  \\\n",
       "0                                 -500.470978   \n",
       "1                                 -500.582168   \n",
       "\n",
       "   secondary_cleaner.state.floatbank6_a_air  \\\n",
       "0                                 14.151341   \n",
       "1                                 13.998353   \n",
       "\n",
       "   secondary_cleaner.state.floatbank6_a_level  \n",
       "0                                 -605.841980  \n",
       "1                                 -599.787184  \n",
       "\n",
       "[2 rows x 87 columns]"
      ]
     },
     "metadata": {},
     "output_type": "display_data"
    },
    {
     "data": {
      "text/html": [
       "<div>\n",
       "<style scoped>\n",
       "    .dataframe tbody tr th:only-of-type {\n",
       "        vertical-align: middle;\n",
       "    }\n",
       "\n",
       "    .dataframe tbody tr th {\n",
       "        vertical-align: top;\n",
       "    }\n",
       "\n",
       "    .dataframe thead th {\n",
       "        text-align: right;\n",
       "    }\n",
       "</style>\n",
       "<table border=\"1\" class=\"dataframe\">\n",
       "  <thead>\n",
       "    <tr style=\"text-align: right;\">\n",
       "      <th></th>\n",
       "      <th>date</th>\n",
       "      <th>final.output.concentrate_ag</th>\n",
       "      <th>final.output.concentrate_pb</th>\n",
       "      <th>final.output.concentrate_sol</th>\n",
       "      <th>final.output.concentrate_au</th>\n",
       "      <th>final.output.recovery</th>\n",
       "      <th>final.output.tail_ag</th>\n",
       "      <th>final.output.tail_pb</th>\n",
       "      <th>final.output.tail_sol</th>\n",
       "      <th>final.output.tail_au</th>\n",
       "      <th>...</th>\n",
       "      <th>secondary_cleaner.state.floatbank4_a_air</th>\n",
       "      <th>secondary_cleaner.state.floatbank4_a_level</th>\n",
       "      <th>secondary_cleaner.state.floatbank4_b_air</th>\n",
       "      <th>secondary_cleaner.state.floatbank4_b_level</th>\n",
       "      <th>secondary_cleaner.state.floatbank5_a_air</th>\n",
       "      <th>secondary_cleaner.state.floatbank5_a_level</th>\n",
       "      <th>secondary_cleaner.state.floatbank5_b_air</th>\n",
       "      <th>secondary_cleaner.state.floatbank5_b_level</th>\n",
       "      <th>secondary_cleaner.state.floatbank6_a_air</th>\n",
       "      <th>secondary_cleaner.state.floatbank6_a_level</th>\n",
       "    </tr>\n",
       "  </thead>\n",
       "  <tbody>\n",
       "    <tr>\n",
       "      <th>22714</th>\n",
       "      <td>2018-08-18 09:59:59</td>\n",
       "      <td>3.367241</td>\n",
       "      <td>11.625587</td>\n",
       "      <td>6.799433</td>\n",
       "      <td>46.408188</td>\n",
       "      <td>65.523246</td>\n",
       "      <td>8.777171</td>\n",
       "      <td>2.819214</td>\n",
       "      <td>10.463847</td>\n",
       "      <td>1.602879</td>\n",
       "      <td>...</td>\n",
       "      <td>23.024963</td>\n",
       "      <td>-501.153409</td>\n",
       "      <td>20.054122</td>\n",
       "      <td>-500.314711</td>\n",
       "      <td>17.979515</td>\n",
       "      <td>-499.272871</td>\n",
       "      <td>12.992404</td>\n",
       "      <td>-499.976268</td>\n",
       "      <td>20.013986</td>\n",
       "      <td>-500.625471</td>\n",
       "    </tr>\n",
       "    <tr>\n",
       "      <th>22715</th>\n",
       "      <td>2018-08-18 10:59:59</td>\n",
       "      <td>3.598375</td>\n",
       "      <td>11.737832</td>\n",
       "      <td>6.717509</td>\n",
       "      <td>46.299438</td>\n",
       "      <td>70.281454</td>\n",
       "      <td>8.406690</td>\n",
       "      <td>2.517518</td>\n",
       "      <td>10.652193</td>\n",
       "      <td>1.389434</td>\n",
       "      <td>...</td>\n",
       "      <td>23.018622</td>\n",
       "      <td>-500.492702</td>\n",
       "      <td>20.020205</td>\n",
       "      <td>-500.220296</td>\n",
       "      <td>17.963512</td>\n",
       "      <td>-499.939490</td>\n",
       "      <td>12.990306</td>\n",
       "      <td>-500.080993</td>\n",
       "      <td>19.990336</td>\n",
       "      <td>-499.191575</td>\n",
       "    </tr>\n",
       "  </tbody>\n",
       "</table>\n",
       "<p>2 rows × 87 columns</p>\n",
       "</div>"
      ],
      "text/plain": [
       "                     date  final.output.concentrate_ag  \\\n",
       "22714 2018-08-18 09:59:59                     3.367241   \n",
       "22715 2018-08-18 10:59:59                     3.598375   \n",
       "\n",
       "       final.output.concentrate_pb  final.output.concentrate_sol  \\\n",
       "22714                    11.625587                      6.799433   \n",
       "22715                    11.737832                      6.717509   \n",
       "\n",
       "       final.output.concentrate_au  final.output.recovery  \\\n",
       "22714                    46.408188              65.523246   \n",
       "22715                    46.299438              70.281454   \n",
       "\n",
       "       final.output.tail_ag  final.output.tail_pb  final.output.tail_sol  \\\n",
       "22714              8.777171              2.819214              10.463847   \n",
       "22715              8.406690              2.517518              10.652193   \n",
       "\n",
       "       final.output.tail_au  ...  secondary_cleaner.state.floatbank4_a_air  \\\n",
       "22714              1.602879  ...                                 23.024963   \n",
       "22715              1.389434  ...                                 23.018622   \n",
       "\n",
       "       secondary_cleaner.state.floatbank4_a_level  \\\n",
       "22714                                 -501.153409   \n",
       "22715                                 -500.492702   \n",
       "\n",
       "       secondary_cleaner.state.floatbank4_b_air  \\\n",
       "22714                                 20.054122   \n",
       "22715                                 20.020205   \n",
       "\n",
       "       secondary_cleaner.state.floatbank4_b_level  \\\n",
       "22714                                 -500.314711   \n",
       "22715                                 -500.220296   \n",
       "\n",
       "       secondary_cleaner.state.floatbank5_a_air  \\\n",
       "22714                                 17.979515   \n",
       "22715                                 17.963512   \n",
       "\n",
       "       secondary_cleaner.state.floatbank5_a_level  \\\n",
       "22714                                 -499.272871   \n",
       "22715                                 -499.939490   \n",
       "\n",
       "       secondary_cleaner.state.floatbank5_b_air  \\\n",
       "22714                                 12.992404   \n",
       "22715                                 12.990306   \n",
       "\n",
       "       secondary_cleaner.state.floatbank5_b_level  \\\n",
       "22714                                 -499.976268   \n",
       "22715                                 -500.080993   \n",
       "\n",
       "       secondary_cleaner.state.floatbank6_a_air  \\\n",
       "22714                                 20.013986   \n",
       "22715                                 19.990336   \n",
       "\n",
       "       secondary_cleaner.state.floatbank6_a_level  \n",
       "22714                                 -500.625471  \n",
       "22715                                 -499.191575  \n",
       "\n",
       "[2 rows x 87 columns]"
      ]
     },
     "metadata": {},
     "output_type": "display_data"
    }
   ],
   "source": [
    "display(df_full.head(2))\n",
    "display(df_full.tail(2))"
   ]
  },
  {
   "cell_type": "markdown",
   "id": "martial-cloud",
   "metadata": {},
   "source": [
    "> Datetime has values for complete hour as well as H:59:59 -> Needs to be ceiled, floored or rounded\n",
    "> This applies for all dataframes. So their correltation mus be checked"
   ]
  },
  {
   "cell_type": "markdown",
   "id": "smaller-negative",
   "metadata": {},
   "source": [
    "#### 1.3.2.1. Fixing datetime distortion in full df\n",
    "> Due the previous findings, the datetime distortion has been fixed.\n",
    "> Therefore in this chapter the following steps have been carried out:\n",
    "> - investigation of first occurence\n",
    "> - ceiling or flooring according to first occurence"
   ]
  },
  {
   "cell_type": "code",
   "execution_count": 15,
   "id": "light-accused",
   "metadata": {},
   "outputs": [
    {
     "data": {
      "text/html": [
       "<div>\n",
       "<style scoped>\n",
       "    .dataframe tbody tr th:only-of-type {\n",
       "        vertical-align: middle;\n",
       "    }\n",
       "\n",
       "    .dataframe tbody tr th {\n",
       "        vertical-align: top;\n",
       "    }\n",
       "\n",
       "    .dataframe thead th {\n",
       "        text-align: right;\n",
       "    }\n",
       "</style>\n",
       "<table border=\"1\" class=\"dataframe\">\n",
       "  <thead>\n",
       "    <tr style=\"text-align: right;\">\n",
       "      <th></th>\n",
       "      <th>date</th>\n",
       "      <th>final.output.concentrate_ag</th>\n",
       "      <th>final.output.concentrate_pb</th>\n",
       "      <th>final.output.concentrate_sol</th>\n",
       "      <th>final.output.concentrate_au</th>\n",
       "      <th>final.output.recovery</th>\n",
       "      <th>final.output.tail_ag</th>\n",
       "      <th>final.output.tail_pb</th>\n",
       "      <th>final.output.tail_sol</th>\n",
       "      <th>final.output.tail_au</th>\n",
       "      <th>...</th>\n",
       "      <th>secondary_cleaner.state.floatbank4_a_air</th>\n",
       "      <th>secondary_cleaner.state.floatbank4_a_level</th>\n",
       "      <th>secondary_cleaner.state.floatbank4_b_air</th>\n",
       "      <th>secondary_cleaner.state.floatbank4_b_level</th>\n",
       "      <th>secondary_cleaner.state.floatbank5_a_air</th>\n",
       "      <th>secondary_cleaner.state.floatbank5_a_level</th>\n",
       "      <th>secondary_cleaner.state.floatbank5_b_air</th>\n",
       "      <th>secondary_cleaner.state.floatbank5_b_level</th>\n",
       "      <th>secondary_cleaner.state.floatbank6_a_air</th>\n",
       "      <th>secondary_cleaner.state.floatbank6_a_level</th>\n",
       "    </tr>\n",
       "  </thead>\n",
       "  <tbody>\n",
       "    <tr>\n",
       "      <th>2387</th>\n",
       "      <td>2016-04-23 10:59:59</td>\n",
       "      <td>8.231752</td>\n",
       "      <td>10.617444</td>\n",
       "      <td>12.323502</td>\n",
       "      <td>39.535893</td>\n",
       "      <td>67.790864</td>\n",
       "      <td>14.059139</td>\n",
       "      <td>3.982687</td>\n",
       "      <td>9.581455</td>\n",
       "      <td>4.575604</td>\n",
       "      <td>...</td>\n",
       "      <td>11.979188</td>\n",
       "      <td>-553.915569</td>\n",
       "      <td>9.938417</td>\n",
       "      <td>-509.766985</td>\n",
       "      <td>9.011021</td>\n",
       "      <td>-500.731364</td>\n",
       "      <td>9.002038</td>\n",
       "      <td>-501.381788</td>\n",
       "      <td>13.973383</td>\n",
       "      <td>-602.450217</td>\n",
       "    </tr>\n",
       "    <tr>\n",
       "      <th>2388</th>\n",
       "      <td>2016-04-23 11:59:59</td>\n",
       "      <td>8.066017</td>\n",
       "      <td>10.598074</td>\n",
       "      <td>12.195232</td>\n",
       "      <td>39.737920</td>\n",
       "      <td>67.589483</td>\n",
       "      <td>13.934904</td>\n",
       "      <td>4.031320</td>\n",
       "      <td>9.815882</td>\n",
       "      <td>4.613525</td>\n",
       "      <td>...</td>\n",
       "      <td>11.961231</td>\n",
       "      <td>-644.847659</td>\n",
       "      <td>10.025088</td>\n",
       "      <td>-510.005308</td>\n",
       "      <td>8.986517</td>\n",
       "      <td>-501.899480</td>\n",
       "      <td>9.032369</td>\n",
       "      <td>-500.216426</td>\n",
       "      <td>14.041653</td>\n",
       "      <td>-602.060500</td>\n",
       "    </tr>\n",
       "  </tbody>\n",
       "</table>\n",
       "<p>2 rows × 87 columns</p>\n",
       "</div>"
      ],
      "text/plain": [
       "                    date  final.output.concentrate_ag  \\\n",
       "2387 2016-04-23 10:59:59                     8.231752   \n",
       "2388 2016-04-23 11:59:59                     8.066017   \n",
       "\n",
       "      final.output.concentrate_pb  final.output.concentrate_sol  \\\n",
       "2387                    10.617444                     12.323502   \n",
       "2388                    10.598074                     12.195232   \n",
       "\n",
       "      final.output.concentrate_au  final.output.recovery  \\\n",
       "2387                    39.535893              67.790864   \n",
       "2388                    39.737920              67.589483   \n",
       "\n",
       "      final.output.tail_ag  final.output.tail_pb  final.output.tail_sol  \\\n",
       "2387             14.059139              3.982687               9.581455   \n",
       "2388             13.934904              4.031320               9.815882   \n",
       "\n",
       "      final.output.tail_au  ...  secondary_cleaner.state.floatbank4_a_air  \\\n",
       "2387              4.575604  ...                                 11.979188   \n",
       "2388              4.613525  ...                                 11.961231   \n",
       "\n",
       "      secondary_cleaner.state.floatbank4_a_level  \\\n",
       "2387                                 -553.915569   \n",
       "2388                                 -644.847659   \n",
       "\n",
       "      secondary_cleaner.state.floatbank4_b_air  \\\n",
       "2387                                  9.938417   \n",
       "2388                                 10.025088   \n",
       "\n",
       "      secondary_cleaner.state.floatbank4_b_level  \\\n",
       "2387                                 -509.766985   \n",
       "2388                                 -510.005308   \n",
       "\n",
       "      secondary_cleaner.state.floatbank5_a_air  \\\n",
       "2387                                  9.011021   \n",
       "2388                                  8.986517   \n",
       "\n",
       "      secondary_cleaner.state.floatbank5_a_level  \\\n",
       "2387                                 -500.731364   \n",
       "2388                                 -501.899480   \n",
       "\n",
       "      secondary_cleaner.state.floatbank5_b_air  \\\n",
       "2387                                  9.002038   \n",
       "2388                                  9.032369   \n",
       "\n",
       "      secondary_cleaner.state.floatbank5_b_level  \\\n",
       "2387                                 -501.381788   \n",
       "2388                                 -500.216426   \n",
       "\n",
       "      secondary_cleaner.state.floatbank6_a_air  \\\n",
       "2387                                 13.973383   \n",
       "2388                                 14.041653   \n",
       "\n",
       "      secondary_cleaner.state.floatbank6_a_level  \n",
       "2387                                 -602.450217  \n",
       "2388                                 -602.060500  \n",
       "\n",
       "[2 rows x 87 columns]"
      ]
     },
     "metadata": {},
     "output_type": "display_data"
    },
    {
     "data": {
      "text/html": [
       "<div>\n",
       "<style scoped>\n",
       "    .dataframe tbody tr th:only-of-type {\n",
       "        vertical-align: middle;\n",
       "    }\n",
       "\n",
       "    .dataframe tbody tr th {\n",
       "        vertical-align: top;\n",
       "    }\n",
       "\n",
       "    .dataframe thead th {\n",
       "        text-align: right;\n",
       "    }\n",
       "</style>\n",
       "<table border=\"1\" class=\"dataframe\">\n",
       "  <thead>\n",
       "    <tr style=\"text-align: right;\">\n",
       "      <th></th>\n",
       "      <th>date</th>\n",
       "      <th>final.output.concentrate_ag</th>\n",
       "      <th>final.output.concentrate_pb</th>\n",
       "      <th>final.output.concentrate_sol</th>\n",
       "      <th>final.output.concentrate_au</th>\n",
       "      <th>final.output.recovery</th>\n",
       "      <th>final.output.tail_ag</th>\n",
       "      <th>final.output.tail_pb</th>\n",
       "      <th>final.output.tail_sol</th>\n",
       "      <th>final.output.tail_au</th>\n",
       "      <th>...</th>\n",
       "      <th>secondary_cleaner.state.floatbank4_a_air</th>\n",
       "      <th>secondary_cleaner.state.floatbank4_a_level</th>\n",
       "      <th>secondary_cleaner.state.floatbank4_b_air</th>\n",
       "      <th>secondary_cleaner.state.floatbank4_b_level</th>\n",
       "      <th>secondary_cleaner.state.floatbank5_a_air</th>\n",
       "      <th>secondary_cleaner.state.floatbank5_a_level</th>\n",
       "      <th>secondary_cleaner.state.floatbank5_b_air</th>\n",
       "      <th>secondary_cleaner.state.floatbank5_b_level</th>\n",
       "      <th>secondary_cleaner.state.floatbank6_a_air</th>\n",
       "      <th>secondary_cleaner.state.floatbank6_a_level</th>\n",
       "    </tr>\n",
       "  </thead>\n",
       "  <tbody>\n",
       "    <tr>\n",
       "      <th>22714</th>\n",
       "      <td>2018-08-18 09:59:59</td>\n",
       "      <td>3.367241</td>\n",
       "      <td>11.625587</td>\n",
       "      <td>6.799433</td>\n",
       "      <td>46.408188</td>\n",
       "      <td>65.523246</td>\n",
       "      <td>8.777171</td>\n",
       "      <td>2.819214</td>\n",
       "      <td>10.463847</td>\n",
       "      <td>1.602879</td>\n",
       "      <td>...</td>\n",
       "      <td>23.024963</td>\n",
       "      <td>-501.153409</td>\n",
       "      <td>20.054122</td>\n",
       "      <td>-500.314711</td>\n",
       "      <td>17.979515</td>\n",
       "      <td>-499.272871</td>\n",
       "      <td>12.992404</td>\n",
       "      <td>-499.976268</td>\n",
       "      <td>20.013986</td>\n",
       "      <td>-500.625471</td>\n",
       "    </tr>\n",
       "    <tr>\n",
       "      <th>22715</th>\n",
       "      <td>2018-08-18 10:59:59</td>\n",
       "      <td>3.598375</td>\n",
       "      <td>11.737832</td>\n",
       "      <td>6.717509</td>\n",
       "      <td>46.299438</td>\n",
       "      <td>70.281454</td>\n",
       "      <td>8.406690</td>\n",
       "      <td>2.517518</td>\n",
       "      <td>10.652193</td>\n",
       "      <td>1.389434</td>\n",
       "      <td>...</td>\n",
       "      <td>23.018622</td>\n",
       "      <td>-500.492702</td>\n",
       "      <td>20.020205</td>\n",
       "      <td>-500.220296</td>\n",
       "      <td>17.963512</td>\n",
       "      <td>-499.939490</td>\n",
       "      <td>12.990306</td>\n",
       "      <td>-500.080993</td>\n",
       "      <td>19.990336</td>\n",
       "      <td>-499.191575</td>\n",
       "    </tr>\n",
       "  </tbody>\n",
       "</table>\n",
       "<p>2 rows × 87 columns</p>\n",
       "</div>"
      ],
      "text/plain": [
       "                     date  final.output.concentrate_ag  \\\n",
       "22714 2018-08-18 09:59:59                     3.367241   \n",
       "22715 2018-08-18 10:59:59                     3.598375   \n",
       "\n",
       "       final.output.concentrate_pb  final.output.concentrate_sol  \\\n",
       "22714                    11.625587                      6.799433   \n",
       "22715                    11.737832                      6.717509   \n",
       "\n",
       "       final.output.concentrate_au  final.output.recovery  \\\n",
       "22714                    46.408188              65.523246   \n",
       "22715                    46.299438              70.281454   \n",
       "\n",
       "       final.output.tail_ag  final.output.tail_pb  final.output.tail_sol  \\\n",
       "22714              8.777171              2.819214              10.463847   \n",
       "22715              8.406690              2.517518              10.652193   \n",
       "\n",
       "       final.output.tail_au  ...  secondary_cleaner.state.floatbank4_a_air  \\\n",
       "22714              1.602879  ...                                 23.024963   \n",
       "22715              1.389434  ...                                 23.018622   \n",
       "\n",
       "       secondary_cleaner.state.floatbank4_a_level  \\\n",
       "22714                                 -501.153409   \n",
       "22715                                 -500.492702   \n",
       "\n",
       "       secondary_cleaner.state.floatbank4_b_air  \\\n",
       "22714                                 20.054122   \n",
       "22715                                 20.020205   \n",
       "\n",
       "       secondary_cleaner.state.floatbank4_b_level  \\\n",
       "22714                                 -500.314711   \n",
       "22715                                 -500.220296   \n",
       "\n",
       "       secondary_cleaner.state.floatbank5_a_air  \\\n",
       "22714                                 17.979515   \n",
       "22715                                 17.963512   \n",
       "\n",
       "       secondary_cleaner.state.floatbank5_a_level  \\\n",
       "22714                                 -499.272871   \n",
       "22715                                 -499.939490   \n",
       "\n",
       "       secondary_cleaner.state.floatbank5_b_air  \\\n",
       "22714                                 12.992404   \n",
       "22715                                 12.990306   \n",
       "\n",
       "       secondary_cleaner.state.floatbank5_b_level  \\\n",
       "22714                                 -499.976268   \n",
       "22715                                 -500.080993   \n",
       "\n",
       "       secondary_cleaner.state.floatbank6_a_air  \\\n",
       "22714                                 20.013986   \n",
       "22715                                 19.990336   \n",
       "\n",
       "       secondary_cleaner.state.floatbank6_a_level  \n",
       "22714                                 -500.625471  \n",
       "22715                                 -499.191575  \n",
       "\n",
       "[2 rows x 87 columns]"
      ]
     },
     "metadata": {},
     "output_type": "display_data"
    }
   ],
   "source": [
    "# Displaying the columns where this happpens the first time\n",
    "display(df_full.loc[df_full['date'].dt.second != 0].head(2))\n",
    "display(df_full.loc[df_full['date'].dt.second != 0].tail(2))"
   ]
  },
  {
   "cell_type": "markdown",
   "id": "impressed-spirit",
   "metadata": {},
   "source": [
    "> The time distortion starts from row 2387 (2016-04-23 10:00) and continues until the end (2018-08-18 10:59:59). For deciding if the Times need to be ceiled or floored, row 2386 need to be investigated"
   ]
  },
  {
   "cell_type": "code",
   "execution_count": 16,
   "id": "opponent-mechanism",
   "metadata": {},
   "outputs": [
    {
     "data": {
      "text/plain": [
       "2385   2016-04-23 09:00:00\n",
       "2386   2016-04-23 10:00:00\n",
       "2387   2016-04-23 10:59:59\n",
       "2388   2016-04-23 11:59:59\n",
       "Name: date, dtype: datetime64[ns]"
      ]
     },
     "execution_count": 16,
     "metadata": {},
     "output_type": "execute_result"
    }
   ],
   "source": [
    "# Investigating ceiling or flooring\n",
    "df_full.loc[[*range(2385,2389)], 'date']"
   ]
  },
  {
   "cell_type": "markdown",
   "id": "better-arbitration",
   "metadata": {},
   "source": [
    "> The times need to be ceiled  \n",
    "> The ceiled times are stored in an additional collumn to allow investigations with the full dataframe in combination with the other dataframes"
   ]
  },
  {
   "cell_type": "code",
   "execution_count": 17,
   "id": "short-arrangement",
   "metadata": {},
   "outputs": [
    {
     "data": {
      "text/plain": [
       "2385   2016-04-23 09:00:00\n",
       "2386   2016-04-23 10:00:00\n",
       "2387   2016-04-23 11:00:00\n",
       "2388   2016-04-23 12:00:00\n",
       "Name: date_ceiled, dtype: datetime64[ns]"
      ]
     },
     "execution_count": 17,
     "metadata": {},
     "output_type": "execute_result"
    }
   ],
   "source": [
    "# Ceiling the hours\n",
    "df_full['date_ceiled'] = df_full['date'].dt.ceil('H')\n",
    "\n",
    "# Checking output\n",
    "df_full.loc[[*range(2385,2389)], 'date_ceiled']"
   ]
  },
  {
   "cell_type": "markdown",
   "id": "demographic-customer",
   "metadata": {},
   "source": [
    "#### 1.3.2.2. Fixing datetime distortion in train df\n",
    "> The same phenomena than in the full dataframe ouccours in the train dataframe as well.  \n",
    "> Thus the same steps have been carried out in order to fix the time distortion"
   ]
  },
  {
   "cell_type": "code",
   "execution_count": 18,
   "id": "thrown-trailer",
   "metadata": {},
   "outputs": [
    {
     "data": {
      "text/html": [
       "<div>\n",
       "<style scoped>\n",
       "    .dataframe tbody tr th:only-of-type {\n",
       "        vertical-align: middle;\n",
       "    }\n",
       "\n",
       "    .dataframe tbody tr th {\n",
       "        vertical-align: top;\n",
       "    }\n",
       "\n",
       "    .dataframe thead th {\n",
       "        text-align: right;\n",
       "    }\n",
       "</style>\n",
       "<table border=\"1\" class=\"dataframe\">\n",
       "  <thead>\n",
       "    <tr style=\"text-align: right;\">\n",
       "      <th></th>\n",
       "      <th>date</th>\n",
       "      <th>final.output.concentrate_ag</th>\n",
       "      <th>final.output.concentrate_pb</th>\n",
       "      <th>final.output.concentrate_sol</th>\n",
       "      <th>final.output.concentrate_au</th>\n",
       "      <th>final.output.recovery</th>\n",
       "      <th>final.output.tail_ag</th>\n",
       "      <th>final.output.tail_pb</th>\n",
       "      <th>final.output.tail_sol</th>\n",
       "      <th>final.output.tail_au</th>\n",
       "      <th>...</th>\n",
       "      <th>secondary_cleaner.state.floatbank4_a_air</th>\n",
       "      <th>secondary_cleaner.state.floatbank4_a_level</th>\n",
       "      <th>secondary_cleaner.state.floatbank4_b_air</th>\n",
       "      <th>secondary_cleaner.state.floatbank4_b_level</th>\n",
       "      <th>secondary_cleaner.state.floatbank5_a_air</th>\n",
       "      <th>secondary_cleaner.state.floatbank5_a_level</th>\n",
       "      <th>secondary_cleaner.state.floatbank5_b_air</th>\n",
       "      <th>secondary_cleaner.state.floatbank5_b_level</th>\n",
       "      <th>secondary_cleaner.state.floatbank6_a_air</th>\n",
       "      <th>secondary_cleaner.state.floatbank6_a_level</th>\n",
       "    </tr>\n",
       "  </thead>\n",
       "  <tbody>\n",
       "    <tr>\n",
       "      <th>2387</th>\n",
       "      <td>2016-04-23 10:59:59</td>\n",
       "      <td>8.231752</td>\n",
       "      <td>10.617444</td>\n",
       "      <td>12.323502</td>\n",
       "      <td>39.535893</td>\n",
       "      <td>67.790864</td>\n",
       "      <td>14.059139</td>\n",
       "      <td>3.982687</td>\n",
       "      <td>9.581455</td>\n",
       "      <td>4.575604</td>\n",
       "      <td>...</td>\n",
       "      <td>11.979188</td>\n",
       "      <td>-553.915569</td>\n",
       "      <td>9.938417</td>\n",
       "      <td>-509.766985</td>\n",
       "      <td>9.011021</td>\n",
       "      <td>-500.731364</td>\n",
       "      <td>9.002038</td>\n",
       "      <td>-501.381788</td>\n",
       "      <td>13.973383</td>\n",
       "      <td>-602.450217</td>\n",
       "    </tr>\n",
       "    <tr>\n",
       "      <th>2388</th>\n",
       "      <td>2016-04-23 11:59:59</td>\n",
       "      <td>8.066017</td>\n",
       "      <td>10.598074</td>\n",
       "      <td>12.195232</td>\n",
       "      <td>39.737920</td>\n",
       "      <td>67.589483</td>\n",
       "      <td>13.934904</td>\n",
       "      <td>4.031320</td>\n",
       "      <td>9.815882</td>\n",
       "      <td>4.613525</td>\n",
       "      <td>...</td>\n",
       "      <td>11.961231</td>\n",
       "      <td>-644.847659</td>\n",
       "      <td>10.025088</td>\n",
       "      <td>-510.005308</td>\n",
       "      <td>8.986517</td>\n",
       "      <td>-501.899480</td>\n",
       "      <td>9.032369</td>\n",
       "      <td>-500.216426</td>\n",
       "      <td>14.041653</td>\n",
       "      <td>-602.060500</td>\n",
       "    </tr>\n",
       "  </tbody>\n",
       "</table>\n",
       "<p>2 rows × 87 columns</p>\n",
       "</div>"
      ],
      "text/plain": [
       "                    date  final.output.concentrate_ag  \\\n",
       "2387 2016-04-23 10:59:59                     8.231752   \n",
       "2388 2016-04-23 11:59:59                     8.066017   \n",
       "\n",
       "      final.output.concentrate_pb  final.output.concentrate_sol  \\\n",
       "2387                    10.617444                     12.323502   \n",
       "2388                    10.598074                     12.195232   \n",
       "\n",
       "      final.output.concentrate_au  final.output.recovery  \\\n",
       "2387                    39.535893              67.790864   \n",
       "2388                    39.737920              67.589483   \n",
       "\n",
       "      final.output.tail_ag  final.output.tail_pb  final.output.tail_sol  \\\n",
       "2387             14.059139              3.982687               9.581455   \n",
       "2388             13.934904              4.031320               9.815882   \n",
       "\n",
       "      final.output.tail_au  ...  secondary_cleaner.state.floatbank4_a_air  \\\n",
       "2387              4.575604  ...                                 11.979188   \n",
       "2388              4.613525  ...                                 11.961231   \n",
       "\n",
       "      secondary_cleaner.state.floatbank4_a_level  \\\n",
       "2387                                 -553.915569   \n",
       "2388                                 -644.847659   \n",
       "\n",
       "      secondary_cleaner.state.floatbank4_b_air  \\\n",
       "2387                                  9.938417   \n",
       "2388                                 10.025088   \n",
       "\n",
       "      secondary_cleaner.state.floatbank4_b_level  \\\n",
       "2387                                 -509.766985   \n",
       "2388                                 -510.005308   \n",
       "\n",
       "      secondary_cleaner.state.floatbank5_a_air  \\\n",
       "2387                                  9.011021   \n",
       "2388                                  8.986517   \n",
       "\n",
       "      secondary_cleaner.state.floatbank5_a_level  \\\n",
       "2387                                 -500.731364   \n",
       "2388                                 -501.899480   \n",
       "\n",
       "      secondary_cleaner.state.floatbank5_b_air  \\\n",
       "2387                                  9.002038   \n",
       "2388                                  9.032369   \n",
       "\n",
       "      secondary_cleaner.state.floatbank5_b_level  \\\n",
       "2387                                 -501.381788   \n",
       "2388                                 -500.216426   \n",
       "\n",
       "      secondary_cleaner.state.floatbank6_a_air  \\\n",
       "2387                                 13.973383   \n",
       "2388                                 14.041653   \n",
       "\n",
       "      secondary_cleaner.state.floatbank6_a_level  \n",
       "2387                                 -602.450217  \n",
       "2388                                 -602.060500  \n",
       "\n",
       "[2 rows x 87 columns]"
      ]
     },
     "metadata": {},
     "output_type": "display_data"
    }
   ],
   "source": [
    "# Displaying the columns where this happpens the first time\n",
    "display(df_train.loc[df_train['date'].dt.second != 0].head(2))"
   ]
  },
  {
   "cell_type": "code",
   "execution_count": 19,
   "id": "revised-hungarian",
   "metadata": {},
   "outputs": [
    {
     "data": {
      "text/plain": [
       "2385   2016-04-23 09:00:00\n",
       "2386   2016-04-23 10:00:00\n",
       "2387   2016-04-23 10:59:59\n",
       "2388   2016-04-23 11:59:59\n",
       "Name: date, dtype: datetime64[ns]"
      ]
     },
     "execution_count": 19,
     "metadata": {},
     "output_type": "execute_result"
    }
   ],
   "source": [
    "# Investigating first appearance of the shifted hour\n",
    "df_train.loc[[*range(2385,2389)], 'date']"
   ]
  },
  {
   "cell_type": "markdown",
   "id": "competent-entry",
   "metadata": {},
   "source": [
    "> Same threshold than above, so the same measures have been applied"
   ]
  },
  {
   "cell_type": "code",
   "execution_count": 20,
   "id": "judicial-cheese",
   "metadata": {},
   "outputs": [
    {
     "data": {
      "text/plain": [
       "2385   2016-04-23 09:00:00\n",
       "2386   2016-04-23 10:00:00\n",
       "2387   2016-04-23 11:00:00\n",
       "2388   2016-04-23 12:00:00\n",
       "Name: date, dtype: datetime64[ns]"
      ]
     },
     "execution_count": 20,
     "metadata": {},
     "output_type": "execute_result"
    }
   ],
   "source": [
    "# Ceil and control output\n",
    "df_train['date'] = df_train['date'].dt.ceil('H')\n",
    "df_train.loc[[*range(2385,2389)], 'date']"
   ]
  },
  {
   "cell_type": "markdown",
   "id": "permanent-firmware",
   "metadata": {},
   "source": [
    "#### 1.3.2.3. Fixing datetime distortion in test df\n",
    "> The same phenomena than in the full dataframe ouccours in the train dataframe as well.  \n",
    "> Thus the same steps have been carried out in order to fix the time distortion\n",
    "> Becuase for the test dataframe there are only distorted entries for the date collum, the origin of this problem has been determined within this chapter"
   ]
  },
  {
   "cell_type": "code",
   "execution_count": 21,
   "id": "ancient-policy",
   "metadata": {},
   "outputs": [
    {
     "data": {
      "text/html": [
       "<div>\n",
       "<style scoped>\n",
       "    .dataframe tbody tr th:only-of-type {\n",
       "        vertical-align: middle;\n",
       "    }\n",
       "\n",
       "    .dataframe tbody tr th {\n",
       "        vertical-align: top;\n",
       "    }\n",
       "\n",
       "    .dataframe thead th {\n",
       "        text-align: right;\n",
       "    }\n",
       "</style>\n",
       "<table border=\"1\" class=\"dataframe\">\n",
       "  <thead>\n",
       "    <tr style=\"text-align: right;\">\n",
       "      <th></th>\n",
       "      <th>date</th>\n",
       "      <th>primary_cleaner.input.sulfate</th>\n",
       "      <th>primary_cleaner.input.depressant</th>\n",
       "      <th>primary_cleaner.input.feed_size</th>\n",
       "      <th>primary_cleaner.input.xanthate</th>\n",
       "      <th>primary_cleaner.state.floatbank8_a_air</th>\n",
       "      <th>primary_cleaner.state.floatbank8_a_level</th>\n",
       "      <th>primary_cleaner.state.floatbank8_b_air</th>\n",
       "      <th>primary_cleaner.state.floatbank8_b_level</th>\n",
       "      <th>primary_cleaner.state.floatbank8_c_air</th>\n",
       "      <th>...</th>\n",
       "      <th>secondary_cleaner.state.floatbank4_a_air</th>\n",
       "      <th>secondary_cleaner.state.floatbank4_a_level</th>\n",
       "      <th>secondary_cleaner.state.floatbank4_b_air</th>\n",
       "      <th>secondary_cleaner.state.floatbank4_b_level</th>\n",
       "      <th>secondary_cleaner.state.floatbank5_a_air</th>\n",
       "      <th>secondary_cleaner.state.floatbank5_a_level</th>\n",
       "      <th>secondary_cleaner.state.floatbank5_b_air</th>\n",
       "      <th>secondary_cleaner.state.floatbank5_b_level</th>\n",
       "      <th>secondary_cleaner.state.floatbank6_a_air</th>\n",
       "      <th>secondary_cleaner.state.floatbank6_a_level</th>\n",
       "    </tr>\n",
       "  </thead>\n",
       "  <tbody>\n",
       "    <tr>\n",
       "      <th>0</th>\n",
       "      <td>2016-09-01 00:59:59</td>\n",
       "      <td>210.800909</td>\n",
       "      <td>14.993118</td>\n",
       "      <td>8.08</td>\n",
       "      <td>1.005021</td>\n",
       "      <td>1398.981301</td>\n",
       "      <td>-500.225577</td>\n",
       "      <td>1399.144926</td>\n",
       "      <td>-499.919735</td>\n",
       "      <td>1400.102998</td>\n",
       "      <td>...</td>\n",
       "      <td>12.023554</td>\n",
       "      <td>-497.795834</td>\n",
       "      <td>8.016656</td>\n",
       "      <td>-501.289139</td>\n",
       "      <td>7.946562</td>\n",
       "      <td>-432.317850</td>\n",
       "      <td>4.872511</td>\n",
       "      <td>-500.037437</td>\n",
       "      <td>26.705889</td>\n",
       "      <td>-499.709414</td>\n",
       "    </tr>\n",
       "    <tr>\n",
       "      <th>1</th>\n",
       "      <td>2016-09-01 01:59:59</td>\n",
       "      <td>215.392455</td>\n",
       "      <td>14.987471</td>\n",
       "      <td>8.08</td>\n",
       "      <td>0.990469</td>\n",
       "      <td>1398.777912</td>\n",
       "      <td>-500.057435</td>\n",
       "      <td>1398.055362</td>\n",
       "      <td>-499.778182</td>\n",
       "      <td>1396.151033</td>\n",
       "      <td>...</td>\n",
       "      <td>12.058140</td>\n",
       "      <td>-498.695773</td>\n",
       "      <td>8.130979</td>\n",
       "      <td>-499.634209</td>\n",
       "      <td>7.958270</td>\n",
       "      <td>-525.839648</td>\n",
       "      <td>4.878850</td>\n",
       "      <td>-500.162375</td>\n",
       "      <td>25.019940</td>\n",
       "      <td>-499.819438</td>\n",
       "    </tr>\n",
       "  </tbody>\n",
       "</table>\n",
       "<p>2 rows × 53 columns</p>\n",
       "</div>"
      ],
      "text/plain": [
       "                 date  primary_cleaner.input.sulfate  \\\n",
       "0 2016-09-01 00:59:59                     210.800909   \n",
       "1 2016-09-01 01:59:59                     215.392455   \n",
       "\n",
       "   primary_cleaner.input.depressant  primary_cleaner.input.feed_size  \\\n",
       "0                         14.993118                             8.08   \n",
       "1                         14.987471                             8.08   \n",
       "\n",
       "   primary_cleaner.input.xanthate  primary_cleaner.state.floatbank8_a_air  \\\n",
       "0                        1.005021                             1398.981301   \n",
       "1                        0.990469                             1398.777912   \n",
       "\n",
       "   primary_cleaner.state.floatbank8_a_level  \\\n",
       "0                               -500.225577   \n",
       "1                               -500.057435   \n",
       "\n",
       "   primary_cleaner.state.floatbank8_b_air  \\\n",
       "0                             1399.144926   \n",
       "1                             1398.055362   \n",
       "\n",
       "   primary_cleaner.state.floatbank8_b_level  \\\n",
       "0                               -499.919735   \n",
       "1                               -499.778182   \n",
       "\n",
       "   primary_cleaner.state.floatbank8_c_air  ...  \\\n",
       "0                             1400.102998  ...   \n",
       "1                             1396.151033  ...   \n",
       "\n",
       "   secondary_cleaner.state.floatbank4_a_air  \\\n",
       "0                                 12.023554   \n",
       "1                                 12.058140   \n",
       "\n",
       "   secondary_cleaner.state.floatbank4_a_level  \\\n",
       "0                                 -497.795834   \n",
       "1                                 -498.695773   \n",
       "\n",
       "   secondary_cleaner.state.floatbank4_b_air  \\\n",
       "0                                  8.016656   \n",
       "1                                  8.130979   \n",
       "\n",
       "   secondary_cleaner.state.floatbank4_b_level  \\\n",
       "0                                 -501.289139   \n",
       "1                                 -499.634209   \n",
       "\n",
       "   secondary_cleaner.state.floatbank5_a_air  \\\n",
       "0                                  7.946562   \n",
       "1                                  7.958270   \n",
       "\n",
       "   secondary_cleaner.state.floatbank5_a_level  \\\n",
       "0                                 -432.317850   \n",
       "1                                 -525.839648   \n",
       "\n",
       "   secondary_cleaner.state.floatbank5_b_air  \\\n",
       "0                                  4.872511   \n",
       "1                                  4.878850   \n",
       "\n",
       "   secondary_cleaner.state.floatbank5_b_level  \\\n",
       "0                                 -500.037437   \n",
       "1                                 -500.162375   \n",
       "\n",
       "   secondary_cleaner.state.floatbank6_a_air  \\\n",
       "0                                 26.705889   \n",
       "1                                 25.019940   \n",
       "\n",
       "   secondary_cleaner.state.floatbank6_a_level  \n",
       "0                                 -499.709414  \n",
       "1                                 -499.819438  \n",
       "\n",
       "[2 rows x 53 columns]"
      ]
     },
     "metadata": {},
     "output_type": "display_data"
    }
   ],
   "source": [
    "# Displaying the columns where this happpens the first time\n",
    "display(df_test.loc[df_test['date'].dt.second != 0].head(2))"
   ]
  },
  {
   "cell_type": "markdown",
   "id": "enhanced-addiction",
   "metadata": {},
   "source": [
    "> The complete df is distorted (shifted the one second), In the following step the causes and the need of ceiling or flooring has been investigated.  \n",
    "> Therefore the Timeseries of the test, train and full dataframe have been plotted and investigated"
   ]
  },
  {
   "cell_type": "code",
   "execution_count": 22,
   "id": "veterinary-respondent",
   "metadata": {},
   "outputs": [
    {
     "data": {
      "image/png": "[encoded data removed]",
      "text/plain": [
       "<Figure size 1296x360 with 1 Axes>"
      ]
     },
     "metadata": {
      "needs_background": "light"
     },
     "output_type": "display_data"
    }
   ],
   "source": [
    "# Aggregating ceiled\n",
    "rolling = df_full['primary_cleaner.input.sulfate'].rolling(90).mean()\n",
    "date = df_full['date_ceiled']\n",
    "rolling = pd.DataFrame({'rolling': rolling, 'date': date})\n",
    "\n",
    "# set figure size\n",
    "plt.figure( figsize = ( 18, 5))\n",
    "\n",
    "# plot using rolling average\n",
    "sns.lineplot( x = 'date_ceiled',\n",
    "             y = 'primary_cleaner.input.sulfate',\n",
    "             data = df_full,\n",
    "             label = 'data')\n",
    "\n",
    "# plot a simple time series plot\n",
    "# using seaborn.lineplot()\n",
    "sns.lineplot( x = 'date',\n",
    "             y = 'rolling',\n",
    "             data = rolling,\n",
    "             label = 'Rolling')\n",
    "  \n",
    "plt.ylabel('Concentration')\n",
    "plt.xlabel('Date')  \n",
    "plt.title('Timeseries for sulfate (input)')\n",
    "plt.show()"
   ]
  },
  {
   "cell_type": "code",
   "execution_count": 23,
   "id": "wrong-major",
   "metadata": {},
   "outputs": [
    {
     "data": {
      "image/png": "[encoded data removed]",
      "text/plain": [
       "<Figure size 864x288 with 2 Axes>"
      ]
     },
     "metadata": {
      "needs_background": "light"
     },
     "output_type": "display_data"
    }
   ],
   "source": [
    "# Checking time Series in test and train dataframe\n",
    "fig, ax = plt.subplots(ncols=2, nrows=1, figsize=(12,4))\n",
    "ax[0] = df_test[['date', 'primary_cleaner.input.sulfate']].plot(x='date', ax=ax[0]);\n",
    "ax[1] = df_train[['date', 'primary_cleaner.input.sulfate']].plot(x='date', ax=ax[1]);\n",
    "ax[0].set_title('test dataframe time series')\n",
    "ax[1].set_title('train_dataframe')\n",
    "plt.show()"
   ]
  },
  {
   "cell_type": "markdown",
   "id": "proved-orleans",
   "metadata": {},
   "source": [
    "> **Observations:**\n",
    "> - it seems that train and test dataframe are just complementary slices of the full dataframe. -> Ceiling \n",
    "> - To make sure that the dataframe can be ceiled, the values of one random date out of the df have been compared"
   ]
  },
  {
   "cell_type": "code",
   "execution_count": 24,
   "id": "isolated-competition",
   "metadata": {},
   "outputs": [
    {
     "data": {
      "text/html": [
       "<div>\n",
       "<style scoped>\n",
       "    .dataframe tbody tr th:only-of-type {\n",
       "        vertical-align: middle;\n",
       "    }\n",
       "\n",
       "    .dataframe tbody tr th {\n",
       "        vertical-align: top;\n",
       "    }\n",
       "\n",
       "    .dataframe thead th {\n",
       "        text-align: right;\n",
       "    }\n",
       "</style>\n",
       "<table border=\"1\" class=\"dataframe\">\n",
       "  <thead>\n",
       "    <tr style=\"text-align: right;\">\n",
       "      <th></th>\n",
       "      <th>date</th>\n",
       "      <th>primary_cleaner.input.sulfate</th>\n",
       "      <th>primary_cleaner.input.depressant</th>\n",
       "      <th>primary_cleaner.input.feed_size</th>\n",
       "      <th>primary_cleaner.input.xanthate</th>\n",
       "      <th>primary_cleaner.state.floatbank8_a_air</th>\n",
       "      <th>primary_cleaner.state.floatbank8_a_level</th>\n",
       "      <th>primary_cleaner.state.floatbank8_b_air</th>\n",
       "      <th>primary_cleaner.state.floatbank8_b_level</th>\n",
       "      <th>primary_cleaner.state.floatbank8_c_air</th>\n",
       "      <th>...</th>\n",
       "      <th>secondary_cleaner.state.floatbank4_a_air</th>\n",
       "      <th>secondary_cleaner.state.floatbank4_a_level</th>\n",
       "      <th>secondary_cleaner.state.floatbank4_b_air</th>\n",
       "      <th>secondary_cleaner.state.floatbank4_b_level</th>\n",
       "      <th>secondary_cleaner.state.floatbank5_a_air</th>\n",
       "      <th>secondary_cleaner.state.floatbank5_a_level</th>\n",
       "      <th>secondary_cleaner.state.floatbank5_b_air</th>\n",
       "      <th>secondary_cleaner.state.floatbank5_b_level</th>\n",
       "      <th>secondary_cleaner.state.floatbank6_a_air</th>\n",
       "      <th>secondary_cleaner.state.floatbank6_a_level</th>\n",
       "    </tr>\n",
       "  </thead>\n",
       "  <tbody>\n",
       "    <tr>\n",
       "      <th>5854</th>\n",
       "      <td>2017-12-31 22:59:59</td>\n",
       "      <td>179.697158</td>\n",
       "      <td>15.438979</td>\n",
       "      <td>8.07</td>\n",
       "      <td>1.501068</td>\n",
       "      <td>1498.466243</td>\n",
       "      <td>-500.483984</td>\n",
       "      <td>1497.986986</td>\n",
       "      <td>-519.20034</td>\n",
       "      <td>1496.569047</td>\n",
       "      <td>...</td>\n",
       "      <td>19.95876</td>\n",
       "      <td>-499.95875</td>\n",
       "      <td>15.026853</td>\n",
       "      <td>-499.723143</td>\n",
       "      <td>11.011607</td>\n",
       "      <td>-499.985046</td>\n",
       "      <td>9.009783</td>\n",
       "      <td>-499.937902</td>\n",
       "      <td>9.01266</td>\n",
       "      <td>-500.154284</td>\n",
       "    </tr>\n",
       "    <tr>\n",
       "      <th>17207</th>\n",
       "      <td>2017-12-31 22:59:59</td>\n",
       "      <td>179.697158</td>\n",
       "      <td>15.438979</td>\n",
       "      <td>8.07</td>\n",
       "      <td>1.501068</td>\n",
       "      <td>1498.466243</td>\n",
       "      <td>-500.483984</td>\n",
       "      <td>1497.986986</td>\n",
       "      <td>-519.20034</td>\n",
       "      <td>1496.569047</td>\n",
       "      <td>...</td>\n",
       "      <td>19.95876</td>\n",
       "      <td>-499.95875</td>\n",
       "      <td>15.026853</td>\n",
       "      <td>-499.723143</td>\n",
       "      <td>11.011607</td>\n",
       "      <td>-499.985046</td>\n",
       "      <td>9.009783</td>\n",
       "      <td>-499.937902</td>\n",
       "      <td>9.01266</td>\n",
       "      <td>-500.154284</td>\n",
       "    </tr>\n",
       "  </tbody>\n",
       "</table>\n",
       "<p>2 rows × 53 columns</p>\n",
       "</div>"
      ],
      "text/plain": [
       "                     date  primary_cleaner.input.sulfate  \\\n",
       "5854  2017-12-31 22:59:59                     179.697158   \n",
       "17207 2017-12-31 22:59:59                     179.697158   \n",
       "\n",
       "       primary_cleaner.input.depressant  primary_cleaner.input.feed_size  \\\n",
       "5854                          15.438979                             8.07   \n",
       "17207                         15.438979                             8.07   \n",
       "\n",
       "       primary_cleaner.input.xanthate  primary_cleaner.state.floatbank8_a_air  \\\n",
       "5854                         1.501068                             1498.466243   \n",
       "17207                        1.501068                             1498.466243   \n",
       "\n",
       "       primary_cleaner.state.floatbank8_a_level  \\\n",
       "5854                                -500.483984   \n",
       "17207                               -500.483984   \n",
       "\n",
       "       primary_cleaner.state.floatbank8_b_air  \\\n",
       "5854                              1497.986986   \n",
       "17207                             1497.986986   \n",
       "\n",
       "       primary_cleaner.state.floatbank8_b_level  \\\n",
       "5854                                 -519.20034   \n",
       "17207                                -519.20034   \n",
       "\n",
       "       primary_cleaner.state.floatbank8_c_air  ...  \\\n",
       "5854                              1496.569047  ...   \n",
       "17207                             1496.569047  ...   \n",
       "\n",
       "       secondary_cleaner.state.floatbank4_a_air  \\\n",
       "5854                                   19.95876   \n",
       "17207                                  19.95876   \n",
       "\n",
       "       secondary_cleaner.state.floatbank4_a_level  \\\n",
       "5854                                   -499.95875   \n",
       "17207                                  -499.95875   \n",
       "\n",
       "       secondary_cleaner.state.floatbank4_b_air  \\\n",
       "5854                                  15.026853   \n",
       "17207                                 15.026853   \n",
       "\n",
       "       secondary_cleaner.state.floatbank4_b_level  \\\n",
       "5854                                  -499.723143   \n",
       "17207                                 -499.723143   \n",
       "\n",
       "       secondary_cleaner.state.floatbank5_a_air  \\\n",
       "5854                                  11.011607   \n",
       "17207                                 11.011607   \n",
       "\n",
       "       secondary_cleaner.state.floatbank5_a_level  \\\n",
       "5854                                  -499.985046   \n",
       "17207                                 -499.985046   \n",
       "\n",
       "       secondary_cleaner.state.floatbank5_b_air  \\\n",
       "5854                                   9.009783   \n",
       "17207                                  9.009783   \n",
       "\n",
       "       secondary_cleaner.state.floatbank5_b_level  \\\n",
       "5854                                  -499.937902   \n",
       "17207                                 -499.937902   \n",
       "\n",
       "       secondary_cleaner.state.floatbank6_a_air  \\\n",
       "5854                                    9.01266   \n",
       "17207                                   9.01266   \n",
       "\n",
       "       secondary_cleaner.state.floatbank6_a_level  \n",
       "5854                                  -500.154284  \n",
       "17207                                 -500.154284  \n",
       "\n",
       "[2 rows x 53 columns]"
      ]
     },
     "execution_count": 24,
     "metadata": {},
     "output_type": "execute_result"
    }
   ],
   "source": [
    "# Selecting a random date within the test set to compare values\n",
    "test_tim = pd.Timestamp(2017, 12, 31, 22, 59, 59)\n",
    "pd.concat((df_test[df_test['date']==test_tim], \n",
    "           df_full.loc[df_full['date']==test_tim, \n",
    "                       df_test[df_test['date']==test_tim].columns]))"
   ]
  },
  {
   "cell_type": "markdown",
   "id": "dimensional-alarm",
   "metadata": {},
   "source": [
    "> The date column has to be ceiled"
   ]
  },
  {
   "cell_type": "code",
   "execution_count": 25,
   "id": "supported-miami",
   "metadata": {},
   "outputs": [
    {
     "data": {
      "text/html": [
       "<div>\n",
       "<style scoped>\n",
       "    .dataframe tbody tr th:only-of-type {\n",
       "        vertical-align: middle;\n",
       "    }\n",
       "\n",
       "    .dataframe tbody tr th {\n",
       "        vertical-align: top;\n",
       "    }\n",
       "\n",
       "    .dataframe thead th {\n",
       "        text-align: right;\n",
       "    }\n",
       "</style>\n",
       "<table border=\"1\" class=\"dataframe\">\n",
       "  <thead>\n",
       "    <tr style=\"text-align: right;\">\n",
       "      <th></th>\n",
       "      <th>date</th>\n",
       "      <th>primary_cleaner.input.sulfate</th>\n",
       "      <th>primary_cleaner.input.depressant</th>\n",
       "      <th>primary_cleaner.input.feed_size</th>\n",
       "      <th>primary_cleaner.input.xanthate</th>\n",
       "      <th>primary_cleaner.state.floatbank8_a_air</th>\n",
       "      <th>primary_cleaner.state.floatbank8_a_level</th>\n",
       "      <th>primary_cleaner.state.floatbank8_b_air</th>\n",
       "      <th>primary_cleaner.state.floatbank8_b_level</th>\n",
       "      <th>primary_cleaner.state.floatbank8_c_air</th>\n",
       "      <th>...</th>\n",
       "      <th>secondary_cleaner.state.floatbank4_a_air</th>\n",
       "      <th>secondary_cleaner.state.floatbank4_a_level</th>\n",
       "      <th>secondary_cleaner.state.floatbank4_b_air</th>\n",
       "      <th>secondary_cleaner.state.floatbank4_b_level</th>\n",
       "      <th>secondary_cleaner.state.floatbank5_a_air</th>\n",
       "      <th>secondary_cleaner.state.floatbank5_a_level</th>\n",
       "      <th>secondary_cleaner.state.floatbank5_b_air</th>\n",
       "      <th>secondary_cleaner.state.floatbank5_b_level</th>\n",
       "      <th>secondary_cleaner.state.floatbank6_a_air</th>\n",
       "      <th>secondary_cleaner.state.floatbank6_a_level</th>\n",
       "    </tr>\n",
       "  </thead>\n",
       "  <tbody>\n",
       "    <tr>\n",
       "      <th>0</th>\n",
       "      <td>2016-09-01 01:00:00</td>\n",
       "      <td>210.800909</td>\n",
       "      <td>14.993118</td>\n",
       "      <td>8.08</td>\n",
       "      <td>1.005021</td>\n",
       "      <td>1398.981301</td>\n",
       "      <td>-500.225577</td>\n",
       "      <td>1399.144926</td>\n",
       "      <td>-499.919735</td>\n",
       "      <td>1400.102998</td>\n",
       "      <td>...</td>\n",
       "      <td>12.023554</td>\n",
       "      <td>-497.795834</td>\n",
       "      <td>8.016656</td>\n",
       "      <td>-501.289139</td>\n",
       "      <td>7.946562</td>\n",
       "      <td>-432.317850</td>\n",
       "      <td>4.872511</td>\n",
       "      <td>-500.037437</td>\n",
       "      <td>26.705889</td>\n",
       "      <td>-499.709414</td>\n",
       "    </tr>\n",
       "    <tr>\n",
       "      <th>1</th>\n",
       "      <td>2016-09-01 02:00:00</td>\n",
       "      <td>215.392455</td>\n",
       "      <td>14.987471</td>\n",
       "      <td>8.08</td>\n",
       "      <td>0.990469</td>\n",
       "      <td>1398.777912</td>\n",
       "      <td>-500.057435</td>\n",
       "      <td>1398.055362</td>\n",
       "      <td>-499.778182</td>\n",
       "      <td>1396.151033</td>\n",
       "      <td>...</td>\n",
       "      <td>12.058140</td>\n",
       "      <td>-498.695773</td>\n",
       "      <td>8.130979</td>\n",
       "      <td>-499.634209</td>\n",
       "      <td>7.958270</td>\n",
       "      <td>-525.839648</td>\n",
       "      <td>4.878850</td>\n",
       "      <td>-500.162375</td>\n",
       "      <td>25.019940</td>\n",
       "      <td>-499.819438</td>\n",
       "    </tr>\n",
       "  </tbody>\n",
       "</table>\n",
       "<p>2 rows × 53 columns</p>\n",
       "</div>"
      ],
      "text/plain": [
       "                 date  primary_cleaner.input.sulfate  \\\n",
       "0 2016-09-01 01:00:00                     210.800909   \n",
       "1 2016-09-01 02:00:00                     215.392455   \n",
       "\n",
       "   primary_cleaner.input.depressant  primary_cleaner.input.feed_size  \\\n",
       "0                         14.993118                             8.08   \n",
       "1                         14.987471                             8.08   \n",
       "\n",
       "   primary_cleaner.input.xanthate  primary_cleaner.state.floatbank8_a_air  \\\n",
       "0                        1.005021                             1398.981301   \n",
       "1                        0.990469                             1398.777912   \n",
       "\n",
       "   primary_cleaner.state.floatbank8_a_level  \\\n",
       "0                               -500.225577   \n",
       "1                               -500.057435   \n",
       "\n",
       "   primary_cleaner.state.floatbank8_b_air  \\\n",
       "0                             1399.144926   \n",
       "1                             1398.055362   \n",
       "\n",
       "   primary_cleaner.state.floatbank8_b_level  \\\n",
       "0                               -499.919735   \n",
       "1                               -499.778182   \n",
       "\n",
       "   primary_cleaner.state.floatbank8_c_air  ...  \\\n",
       "0                             1400.102998  ...   \n",
       "1                             1396.151033  ...   \n",
       "\n",
       "   secondary_cleaner.state.floatbank4_a_air  \\\n",
       "0                                 12.023554   \n",
       "1                                 12.058140   \n",
       "\n",
       "   secondary_cleaner.state.floatbank4_a_level  \\\n",
       "0                                 -497.795834   \n",
       "1                                 -498.695773   \n",
       "\n",
       "   secondary_cleaner.state.floatbank4_b_air  \\\n",
       "0                                  8.016656   \n",
       "1                                  8.130979   \n",
       "\n",
       "   secondary_cleaner.state.floatbank4_b_level  \\\n",
       "0                                 -501.289139   \n",
       "1                                 -499.634209   \n",
       "\n",
       "   secondary_cleaner.state.floatbank5_a_air  \\\n",
       "0                                  7.946562   \n",
       "1                                  7.958270   \n",
       "\n",
       "   secondary_cleaner.state.floatbank5_a_level  \\\n",
       "0                                 -432.317850   \n",
       "1                                 -525.839648   \n",
       "\n",
       "   secondary_cleaner.state.floatbank5_b_air  \\\n",
       "0                                  4.872511   \n",
       "1                                  4.878850   \n",
       "\n",
       "   secondary_cleaner.state.floatbank5_b_level  \\\n",
       "0                                 -500.037437   \n",
       "1                                 -500.162375   \n",
       "\n",
       "   secondary_cleaner.state.floatbank6_a_air  \\\n",
       "0                                 26.705889   \n",
       "1                                 25.019940   \n",
       "\n",
       "   secondary_cleaner.state.floatbank6_a_level  \n",
       "0                                 -499.709414  \n",
       "1                                 -499.819438  \n",
       "\n",
       "[2 rows x 53 columns]"
      ]
     },
     "execution_count": 25,
     "metadata": {},
     "output_type": "execute_result"
    }
   ],
   "source": [
    "# Ceiling date column\n",
    "df_test['date'] = df_test['date'].dt.ceil('H')\n",
    "df_test.head(2)"
   ]
  },
  {
   "cell_type": "markdown",
   "id": "figured-fifteen",
   "metadata": {},
   "source": [
    "### 1.3.3. Setting the time as index\n",
    "> To ease further preprocessing and analytics of the dataframes, the datetime collumn has been set as index and all the additional date collumns have been removed from the dateframes"
   ]
  },
  {
   "cell_type": "code",
   "execution_count": 26,
   "id": "liberal-personal",
   "metadata": {},
   "outputs": [],
   "source": [
    "for df in (df_train, df_test):\n",
    "    df.set_index('date', drop=True, inplace=True)\n",
    "df_full.set_index('date_ceiled', drop=True, inplace=True)\n",
    "df_full.drop('date', axis=1,inplace=True)"
   ]
  },
  {
   "cell_type": "markdown",
   "id": "available-words",
   "metadata": {},
   "source": [
    "### 1.3.4. Filling missing / 0 values\n",
    "> The strategy for dealing with 0 and NaN in this project, to fill them in the full dataset and map the results then to the related slice (test und train dataframe)  \n",
    "> For the filling strategy the circumstance mentioned in the project description has been used: \n",
    ">> *Data is indexed with the date and time of acquisition (date feature). Parameters that are next to each other in terms of time are often similar.*  "
   ]
  },
  {
   "cell_type": "code",
   "execution_count": 27,
   "id": "impressive-anxiety",
   "metadata": {},
   "outputs": [
    {
     "data": {
      "text/plain": [
       "final.output.recovery      1963\n",
       "rougher.output.recovery    3119\n",
       "dtype: int64"
      ]
     },
     "execution_count": 27,
     "metadata": {},
     "output_type": "execute_result"
    }
   ],
   "source": [
    "targets = [col for col in df_full.columns if 'recovery' in col]\n",
    "df_full[targets].isna().sum()"
   ]
  },
  {
   "cell_type": "code",
   "execution_count": 28,
   "id": "herbal-anaheim",
   "metadata": {},
   "outputs": [],
   "source": [
    "cnt_one_missing = df_full[(df_full['rougher.output.recovery'].isna()==True) | \\\n",
    "                           (df_full['final.output.recovery'].isna()==True)].shape[0]\n",
    "cnt_both_missing = df_full[(df_full['rougher.output.recovery'].isna()==True) & \\\n",
    "                           (df_full['final.output.recovery'].isna()==True)].shape[0]\n",
    "total_rows = df_full.shape[0]"
   ]
  },
  {
   "cell_type": "code",
   "execution_count": 29,
   "id": "specific-halloween",
   "metadata": {},
   "outputs": [
    {
     "name": "stdout",
     "output_type": "stream",
     "text": [
      "By dropping 3277 rows, 14.43% of the Dataset will be dropped\n",
      "By dropping 1805 rows, 7.95% of the Dataset will be dropped\n"
     ]
    }
   ],
   "source": [
    "print('By dropping {} rows, {:.2%} of the Dataset will be dropped'.format(cnt_one_missing, cnt_one_missing/total_rows))\n",
    "print('By dropping {} rows, {:.2%} of the Dataset will be dropped'.format(cnt_both_missing, cnt_both_missing/total_rows))"
   ]
  },
  {
   "cell_type": "markdown",
   "id": "current-reducing",
   "metadata": {},
   "source": [
    "# 1.3.4.1. Dropping target NaNs\n",
    "> Before filling the values, the datapoints which are missing both values for the target (in this case the recovery for rougher and output) will be dropped to avoid distortion of the results the model want to predict.  \n"
   ]
  },
  {
   "cell_type": "code",
   "execution_count": 30,
   "id": "medieval-cleaner",
   "metadata": {},
   "outputs": [],
   "source": [
    "mask_to_drop = df_full[(df_full['rougher.output.recovery'].isna()==True) | \\\n",
    "                           (df_full['final.output.recovery'].isna()==True)].index\n"
   ]
  },
  {
   "cell_type": "code",
   "execution_count": 31,
   "id": "timely-pierre",
   "metadata": {},
   "outputs": [
    {
     "data": {
      "text/plain": [
       "DatetimeIndex(['2016-01-17 01:00:00', '2016-01-17 05:00:00',\n",
       "               '2016-01-19 03:00:00', '2016-01-19 04:00:00',\n",
       "               '2016-01-19 05:00:00', '2016-01-19 06:00:00',\n",
       "               '2016-01-19 07:00:00', '2016-01-19 08:00:00',\n",
       "               '2016-01-19 09:00:00', '2016-01-19 10:00:00',\n",
       "               ...\n",
       "               '2018-08-11 17:00:00', '2018-08-11 18:00:00',\n",
       "               '2018-08-11 19:00:00', '2018-08-11 20:00:00',\n",
       "               '2018-08-11 21:00:00', '2018-08-16 00:00:00',\n",
       "               '2018-08-16 01:00:00', '2018-08-16 02:00:00',\n",
       "               '2018-08-16 03:00:00', '2018-08-16 04:00:00'],\n",
       "              dtype='datetime64[ns]', name='date_ceiled', length=3277, freq=None)"
      ]
     },
     "execution_count": 31,
     "metadata": {},
     "output_type": "execute_result"
    }
   ],
   "source": [
    "mask_to_drop"
   ]
  },
  {
   "cell_type": "code",
   "execution_count": 32,
   "id": "hawaiian-bleeding",
   "metadata": {},
   "outputs": [],
   "source": [
    "# Dropping from full dataframe\n",
    "df_full.drop(mask_to_drop, axis=0, inplace=True)\n",
    "#Drop values in test and train df\n",
    "for df in (df_test, df_train):\n",
    "    intersect = [idx for idx in mask_to_drop if idx in df.index]\n",
    "    df.drop(intersect, axis=0, inplace=True)"
   ]
  },
  {
   "cell_type": "code",
   "execution_count": 33,
   "id": "important-paraguay",
   "metadata": {},
   "outputs": [
    {
     "data": {
      "text/plain": [
       "final.output.recovery      0\n",
       "rougher.output.recovery    0\n",
       "dtype: int64"
      ]
     },
     "execution_count": 33,
     "metadata": {},
     "output_type": "execute_result"
    }
   ],
   "source": [
    "targets = [col for col in df_full.columns if 'recovery' in col]\n",
    "df_full[targets].isna().sum()"
   ]
  },
  {
   "cell_type": "markdown",
   "id": "naughty-chest",
   "metadata": {},
   "source": [
    "#### 1.3.4.2. Filling features\n",
    "\n",
    "> Thus, the NaN values will be filled in based on their neighbours:\n",
    "> 1. forward fill - choosen in this project\n",
    "> 2. With interpolation (linear)  - possible option, could be evaluated, if more accurate\n",
    "> 3. In a later project filling the dataframe with square or qubic splines can be tested, if it brings more accurate results."
   ]
  },
  {
   "cell_type": "code",
   "execution_count": 34,
   "id": "dramatic-yemen",
   "metadata": {},
   "outputs": [
    {
     "name": "stdout",
     "output_type": "stream",
     "text": [
      "0\n"
     ]
    }
   ],
   "source": [
    "df_full_ffill = df_full.fillna(method='ffill')\n",
    "df_test_ffill = df_test.fillna(method='ffill')\n",
    "df_train_ffill = df_train.fillna(method='ffill')\n",
    "\n",
    "# Check if filling was successfull\n",
    "print(df_full_ffill.isna().sum().max())"
   ]
  },
  {
   "cell_type": "markdown",
   "id": "opposite-telling",
   "metadata": {},
   "source": [
    "> Sucessufull filled all NaN values"
   ]
  },
  {
   "cell_type": "markdown",
   "id": "combined-interference",
   "metadata": {},
   "source": [
    "### 1.3.5. Adding targets to test dataset \n",
    "> Due to the fact, that the test dataset does not contain the targets (Recovery), they are added from the full dataframe  \n",
    "> Therefore the indexes (Timerange) of the dataframes has been determined before the columns have been added"
   ]
  },
  {
   "cell_type": "code",
   "execution_count": 35,
   "id": "heated-stable",
   "metadata": {},
   "outputs": [
    {
     "name": "stdout",
     "output_type": "stream",
     "text": [
      "DatetimeIndex(['2016-09-01 01:00:00', '2016-09-01 02:00:00',\n",
      "               '2016-09-01 03:00:00', '2016-09-01 04:00:00',\n",
      "               '2016-09-01 05:00:00', '2016-09-01 06:00:00',\n",
      "               '2016-09-01 07:00:00', '2016-09-01 08:00:00',\n",
      "               '2016-09-01 09:00:00', '2016-09-01 10:00:00',\n",
      "               ...\n",
      "               '2017-12-31 15:00:00', '2017-12-31 16:00:00',\n",
      "               '2017-12-31 17:00:00', '2017-12-31 18:00:00',\n",
      "               '2017-12-31 19:00:00', '2017-12-31 20:00:00',\n",
      "               '2017-12-31 21:00:00', '2017-12-31 22:00:00',\n",
      "               '2017-12-31 23:00:00', '2018-01-01 00:00:00'],\n",
      "              dtype='datetime64[ns]', length=5290, freq=None)\n"
     ]
    }
   ],
   "source": [
    "# Generate the index list of the intersection of two full and test dataframe\n",
    "idx = df_test_ffill.index.intersection(df_full_ffill.index)\n",
    "print (idx)"
   ]
  },
  {
   "cell_type": "code",
   "execution_count": 36,
   "id": "devoted-advice",
   "metadata": {},
   "outputs": [],
   "source": [
    "# Aggregating necessary columns\n",
    "targets = [col for col in df_full_ffill.columns if 'recovery' in col]\n",
    "\n",
    "# Adding tartgets to test df\n",
    "df_test_ffill[targets] = df_full_ffill.loc[idx, targets]"
   ]
  },
  {
   "cell_type": "markdown",
   "id": "driven-poetry",
   "metadata": {},
   "source": [
    "> **Coclution for this step:**\n",
    "> - In this step the date cllumn of all three dataframe has been ceiled to synchronize them\n",
    "> - GThe date collumn has been set as index in order to be able to compare the 3 dataframes based on the dates\n",
    "> - The missing values have been filled by using ffill as filling method\n",
    "> - The targets have been added to the test dataframe"
   ]
  },
  {
   "cell_type": "markdown",
   "id": "earlier-strand",
   "metadata": {},
   "source": [
    "# 2. Analyzing the data\n",
    "\n",
    "\n",
    "\n"
   ]
  },
  {
   "cell_type": "markdown",
   "id": "excellent-simple",
   "metadata": {},
   "source": [
    "## 2.1. Metal concentration over purification stages\n",
    "In this step the concentration of metals (Au, Ag, Pb) and its contentration changes depending on the purification stage has been investigated  \n",
    "The purification stages are the primary and secondary cleaner which are fed with the concentrate from the floatation process."
   ]
  },
  {
   "cell_type": "code",
   "execution_count": 37,
   "id": "aerial-lesbian",
   "metadata": {},
   "outputs": [
    {
     "data": {
      "text/plain": [
       "['rougher.input.feed_ag', 'rougher.input.feed_pb', 'rougher.input.feed_au']"
      ]
     },
     "execution_count": 37,
     "metadata": {},
     "output_type": "execute_result"
    }
   ],
   "source": [
    "# Aggregation of raw material\n",
    "raw_cols = [col for col in df_full_ffill.columns if (\n",
    "    ('rougher.input' in col) and (any(met in col for met in METALS)))]\n",
    "raw_cols"
   ]
  },
  {
   "cell_type": "code",
   "execution_count": 38,
   "id": "associate-plymouth",
   "metadata": {},
   "outputs": [
    {
     "data": {
      "text/plain": [
       "['rougher.output.concentrate_ag',\n",
       " 'rougher.output.concentrate_pb',\n",
       " 'rougher.output.concentrate_au',\n",
       " 'rougher.output.tail_ag',\n",
       " 'rougher.output.tail_pb',\n",
       " 'rougher.output.tail_au']"
      ]
     },
     "execution_count": 38,
     "metadata": {},
     "output_type": "execute_result"
    }
   ],
   "source": [
    "# Aggregation of flotation output\n",
    "float_cols = [col for col in df_full_ffill.columns if (\n",
    "    ('rougher.output' in col) and (any(met in col for met in METALS)))]\n",
    "float_cols"
   ]
  },
  {
   "cell_type": "code",
   "execution_count": 39,
   "id": "private-theology",
   "metadata": {},
   "outputs": [
    {
     "data": {
      "text/plain": [
       "['primary_cleaner.output.concentrate_ag',\n",
       " 'primary_cleaner.output.concentrate_pb',\n",
       " 'primary_cleaner.output.concentrate_au',\n",
       " 'primary_cleaner.output.tail_ag',\n",
       " 'primary_cleaner.output.tail_pb',\n",
       " 'primary_cleaner.output.tail_au']"
      ]
     },
     "execution_count": 39,
     "metadata": {},
     "output_type": "execute_result"
    }
   ],
   "source": [
    "# Aggregating collumns primary cleaner\n",
    "primary_clean_cols = [col for col in df_full_ffill.columns if (\n",
    "    ('primary' in col) and (any(met in col for met in METALS)))]\n",
    "primary_clean_cols"
   ]
  },
  {
   "cell_type": "code",
   "execution_count": 40,
   "id": "conservative-employee",
   "metadata": {},
   "outputs": [
    {
     "data": {
      "text/plain": [
       "['secondary_cleaner.output.tail_ag',\n",
       " 'secondary_cleaner.output.tail_pb',\n",
       " 'secondary_cleaner.output.tail_au',\n",
       " 'final.output.concentrate_ag',\n",
       " 'final.output.concentrate_pb',\n",
       " 'final.output.concentrate_au']"
      ]
     },
     "execution_count": 40,
     "metadata": {},
     "output_type": "execute_result"
    }
   ],
   "source": [
    "# Aggregating columns secondary cleaner\n",
    "s_clean_tails = [col for col in df_full_ffill.columns if (\n",
    "    ('secondary_cleaner.output' in col) and (any(met in col for met in METALS)))]\n",
    "s_clean_concs = [col for col in df_full_ffill.columns if (\n",
    "    ('final.output.concentrate' in col) and (any(met in col for met in METALS)))]\n",
    "s_clean_cols = s_clean_tails + s_clean_concs\n",
    "s_clean_cols"
   ]
  },
  {
   "cell_type": "code",
   "execution_count": 41,
   "id": "convenient-bedroom",
   "metadata": {},
   "outputs": [],
   "source": [
    "# Calculating means of concentrations\n",
    "raw_means = df_full_ffill.loc[:, raw_cols].mean()\n",
    "float_means = df_full_ffill.loc[:, float_cols].mean()\n",
    "primary_means = df_full_ffill.loc[:, primary_clean_cols].mean()\n",
    "secondary_means = df_full_ffill.loc[:, s_clean_cols].mean()"
   ]
  },
  {
   "cell_type": "code",
   "execution_count": 42,
   "id": "expired-pioneer",
   "metadata": {},
   "outputs": [
    {
     "data": {
      "image/png": "[encoded data removed]",
      "text/plain": [
       "<Figure size 1008x432 with 1 Axes>"
      ]
     },
     "metadata": {
      "needs_background": "light"
     },
     "output_type": "display_data"
    }
   ],
   "source": [
    "# Plotting how concentrates changed\n",
    "concs = pd.DataFrame([raw_means.reset_index(drop=True),\n",
    "                      float_means[0:3].reset_index(drop=True),\n",
    "                      primary_means[0:3].reset_index(drop=True),\n",
    "                      secondary_means[3:].reset_index(drop=True)\n",
    "                     ], \n",
    "                     index=['raw_material', 'floating', 'primary', 'secondary'])\n",
    "concs.columns =['ag_conc_m', 'pb_conc_m', 'au_conc_m']\n",
    "concs.plot(kind='bar',\n",
    "           grid=True,\n",
    "           figsize=(14,6),\n",
    "           title='concentration means after purification stage',\n",
    "           ylabel='concentration [%]',\n",
    "           xlabel='purification_stage'\n",
    "          );"
   ]
  },
  {
   "cell_type": "markdown",
   "id": "major-vocabulary",
   "metadata": {},
   "source": [
    "> **Observations:**\n",
    "> Within the gold extracting process, the concentration in the concentrate for ag,pb and au changes as seen above:\n",
    "> - AU increases constantly from step to step from total 8-40% (in middle)\n",
    "> - PB increases constantly but only in a range from 3-8% (in middle)\n",
    "> - AG increases in the floating process and decreases afterwards constantly "
   ]
  },
  {
   "cell_type": "code",
   "execution_count": 43,
   "id": "regional-sucking",
   "metadata": {},
   "outputs": [
    {
     "data": {
      "image/png": "[encoded data removed]",
      "text/plain": [
       "<Figure size 864x432 with 1 Axes>"
      ]
     },
     "metadata": {
      "needs_background": "light"
     },
     "output_type": "display_data"
    }
   ],
   "source": [
    "# Plotting how concentrates changed\n",
    "concs = pd.DataFrame([float_means[3:].reset_index(drop=True),\n",
    "                      primary_means[3:].reset_index(drop=True),\n",
    "                      secondary_means[0:3].reset_index(drop=True)\n",
    "                     ],\n",
    "                     index=['floating', 'primary', 'secondary'])\n",
    "concs.columns =['ag_tail_m', 'pb_tail_m', 'au_tail_m']\n",
    "concs.plot(kind='bar',\n",
    "           grid=True,\n",
    "           figsize=(12,6),\n",
    "           title='Tail concentration means after purification stage',\n",
    "           ylabel='concentration [%]',\n",
    "           xlabel='purification_stage'\n",
    "          );"
   ]
  },
  {
   "cell_type": "markdown",
   "id": "vietnamese-hierarchy",
   "metadata": {},
   "source": [
    "> **Observations:**\n",
    "> - The Silver concentration in the tail is constantly the highest share of the three metals\n",
    "> - The Silver concentration is the highest in the primary purification stage whereas the shares of pb and au are constantly growing over the stages  \n",
    "> \\-\\> This means, that the share of gold in the concentrate increases over the purification stages "
   ]
  },
  {
   "cell_type": "markdown",
   "id": "monthly-cambodia",
   "metadata": {},
   "source": [
    "## 2.2. Particle size distribution of test and train set\n",
    "> In this step the distribution for the particle size has been investigated because different input sizes lead to inaccurate models"
   ]
  },
  {
   "cell_type": "code",
   "execution_count": 44,
   "id": "homeless-worry",
   "metadata": {},
   "outputs": [],
   "source": [
    "# sclicing the dataframes\n",
    "test_psize = df_test_ffill['rougher.input.feed_size']\n",
    "train_psize = df_train_ffill['rougher.input.feed_size']"
   ]
  },
  {
   "cell_type": "code",
   "execution_count": 45,
   "id": "undefined-rainbow",
   "metadata": {},
   "outputs": [
    {
     "data": {
      "text/html": [
       "<div>\n",
       "<style scoped>\n",
       "    .dataframe tbody tr th:only-of-type {\n",
       "        vertical-align: middle;\n",
       "    }\n",
       "\n",
       "    .dataframe tbody tr th {\n",
       "        vertical-align: top;\n",
       "    }\n",
       "\n",
       "    .dataframe thead th {\n",
       "        text-align: right;\n",
       "    }\n",
       "</style>\n",
       "<table border=\"1\" class=\"dataframe\">\n",
       "  <thead>\n",
       "    <tr style=\"text-align: right;\">\n",
       "      <th></th>\n",
       "      <th>count</th>\n",
       "      <th>mean</th>\n",
       "      <th>std</th>\n",
       "      <th>min</th>\n",
       "      <th>25%</th>\n",
       "      <th>50%</th>\n",
       "      <th>75%</th>\n",
       "      <th>max</th>\n",
       "    </tr>\n",
       "  </thead>\n",
       "  <tbody>\n",
       "    <tr>\n",
       "      <th>feed_size_test</th>\n",
       "      <td>5290.0</td>\n",
       "      <td>55.952754</td>\n",
       "      <td>19.080334</td>\n",
       "      <td>0.046369</td>\n",
       "      <td>43.906504</td>\n",
       "      <td>50.846843</td>\n",
       "      <td>62.451165</td>\n",
       "      <td>392.494040</td>\n",
       "    </tr>\n",
       "    <tr>\n",
       "      <th>feed_size_train</th>\n",
       "      <td>14149.0</td>\n",
       "      <td>60.239856</td>\n",
       "      <td>23.005310</td>\n",
       "      <td>9.659576</td>\n",
       "      <td>48.966751</td>\n",
       "      <td>55.269784</td>\n",
       "      <td>66.007526</td>\n",
       "      <td>484.967466</td>\n",
       "    </tr>\n",
       "  </tbody>\n",
       "</table>\n",
       "</div>"
      ],
      "text/plain": [
       "                   count       mean        std       min        25%  \\\n",
       "feed_size_test    5290.0  55.952754  19.080334  0.046369  43.906504   \n",
       "feed_size_train  14149.0  60.239856  23.005310  9.659576  48.966751   \n",
       "\n",
       "                       50%        75%         max  \n",
       "feed_size_test   50.846843  62.451165  392.494040  \n",
       "feed_size_train  55.269784  66.007526  484.967466  "
      ]
     },
     "execution_count": 45,
     "metadata": {},
     "output_type": "execute_result"
    }
   ],
   "source": [
    "pd.DataFrame([test_psize.describe(), train_psize.describe()],\n",
    "             index=['feed_size_test', 'feed_size_train'])"
   ]
  },
  {
   "cell_type": "code",
   "execution_count": 46,
   "id": "excellent-bunny",
   "metadata": {},
   "outputs": [
    {
     "data": {
      "image/png": "[encoded data removed]",
      "text/plain": [
       "<Figure size 1008x288 with 2 Axes>"
      ]
     },
     "metadata": {
      "needs_background": "light"
     },
     "output_type": "display_data"
    }
   ],
   "source": [
    "# plotting distributions\n",
    "fig, ax = plt.subplots(ncols=2, nrows=1, figsize=(14,4))\n",
    "for df, name in zip((test_psize, train_psize), ('test set', 'train_set')):\n",
    "    df.hist(density=True, alpha=0.4, bins=25, label=name, ax=ax[0])\n",
    "    df.pipe(lambda x: x[x<120]).hist(density=True,\n",
    "                                     alpha=0.4, \n",
    "                                     bins=12, \n",
    "                                     label=name, \n",
    "                                     ax=ax[1])\n",
    "\n",
    "ax[0].set_xlabel('Feed size in mm') \n",
    "ax[0].legend()\n",
    "ax[0].set_title('Feed_size normalized')\n",
    "ax[0].set_ylabel('Quantitiy [%]')\n",
    "ax[1].set_xlabel('Feed size in mm') \n",
    "ax[1].legend()\n",
    "ax[1].set_title('Feed_size normalized without outliers')\n",
    "ax[1].set_ylabel('Quantitiy [%]')\n",
    "plt.show();"
   ]
  },
  {
   "cell_type": "markdown",
   "id": "dramatic-toronto",
   "metadata": {},
   "source": [
    "> **Observations:**\n",
    "> - Both, train and test set have outliers\n",
    "> - Distribution looks equal  \n",
    "> \\-\\> No further actions needed"
   ]
  },
  {
   "cell_type": "markdown",
   "id": "offshore-finnish",
   "metadata": {},
   "source": [
    "## 2.3. Substances through purification stages\n",
    "> In this step the total concentrations of all substances at different stages has been investigated to find anomalies:\n",
    "> - raw feed\n",
    "> - rougher concentrate\n",
    "> - primary cleaner concentrate\n",
    "> - final concentrate.  \n"
   ]
  },
  {
   "cell_type": "code",
   "execution_count": 47,
   "id": "beginning-activity",
   "metadata": {},
   "outputs": [],
   "source": [
    "elements = METALS + ['sol']\n",
    "# Aggregating rougher input\n",
    "cols_rin_eles = [col for col in df_full_ffill.columns if (\n",
    "    'rougher.input.feed' in col) and (any((el in col for el in elements)))]\n",
    "# Aggregating primary cleaner concentrates\n",
    "cols_pc_eles = [col for col in df_full_ffill.columns if (\n",
    "    'primary_cleaner.output.concentrate' in col) and (any((el in col for el in elements)))]\n",
    "# Aggregating cols rougher.output.concentrate\n",
    "cols_rout_eles = [col for col in df_full_ffill.columns if 'rougher.output.con' in col]\n",
    "# Aggregating final.output.concentrate\n",
    "cols_fout_eles = [col for col in df_full_ffill.columns if 'final.output.con' in col]\n",
    "\n",
    "raw_in = df_full_ffill.loc[:, cols_rin_eles]\n",
    "raw_out = df_full_ffill.loc[:, cols_rout_eles]\n",
    "pc_out = df_full_ffill.loc[:, cols_pc_eles]\n",
    "final_out = df_full_ffill.loc[:, cols_fout_eles]"
   ]
  },
  {
   "cell_type": "code",
   "execution_count": 48,
   "id": "blond-extra",
   "metadata": {},
   "outputs": [],
   "source": [
    "# barplots with 4bars x 3stages\n",
    "# Calculating means of concentrations\n",
    "raw_in_means = raw_in.mean()\n",
    "raw_out_means = raw_out.mean()\n",
    "pc_out_means = pc_out.mean()\n",
    "final_out_means = final_out.mean()"
   ]
  },
  {
   "cell_type": "code",
   "execution_count": 49,
   "id": "detected-claim",
   "metadata": {},
   "outputs": [
    {
     "data": {
      "image/png": "[encoded data removed]",
      "text/plain": [
       "<Figure size 1008x576 with 1 Axes>"
      ]
     },
     "metadata": {
      "needs_background": "light"
     },
     "output_type": "display_data"
    }
   ],
   "source": [
    "# Plotting how concentrates changed\n",
    "concs = pd.DataFrame([raw_in_means.reset_index(drop=True),\n",
    "                      raw_out_means.reset_index(drop=True),\n",
    "                      pc_out_means.reset_index(drop=True),\n",
    "                      final_out_means.reset_index(drop=True)\n",
    "                     ], \n",
    "                     index=['raw_material', 'roughter_concentrate',\n",
    "                            'primary_cleaner', 'final_concentrate'])\n",
    "concs.columns =['ag_conc_m', 'pb_conc_m', 'sol_conc_m', 'au_conc_m']\n",
    "concs.plot(kind='bar',\n",
    "           grid=True,\n",
    "           figsize=(14,8),\n",
    "           title='element concentration means within concentrates after purification stage',\n",
    "           ylabel='concentration [%]',\n",
    "           xlabel='purification_stage'\n",
    "          );"
   ]
  },
  {
   "cell_type": "markdown",
   "id": "internal-wellington",
   "metadata": {},
   "source": [
    "> The mean values are looking valid for the for elements over the purification stages"
   ]
  },
  {
   "cell_type": "code",
   "execution_count": 50,
   "id": "featured-chamber",
   "metadata": {},
   "outputs": [
    {
     "data": {
      "image/png": "[encoded data removed]",
      "text/plain": [
       "<Figure size 864x288 with 1 Axes>"
      ]
     },
     "metadata": {
      "needs_background": "light"
     },
     "output_type": "display_data"
    },
    {
     "data": {
      "image/png": "[encoded data removed]",
      "text/plain": [
       "<Figure size 864x288 with 1 Axes>"
      ]
     },
     "metadata": {
      "needs_background": "light"
     },
     "output_type": "display_data"
    },
    {
     "data": {
      "image/png": "[encoded data removed]",
      "text/plain": [
       "<Figure size 864x288 with 1 Axes>"
      ]
     },
     "metadata": {
      "needs_background": "light"
     },
     "output_type": "display_data"
    },
    {
     "data": {
      "image/png": "[encoded data removed]",
      "text/plain": [
       "<Figure size 864x288 with 1 Axes>"
      ]
     },
     "metadata": {
      "needs_background": "light"
     },
     "output_type": "display_data"
    }
   ],
   "source": [
    "# Plotting histogramms for each element over purification stages\n",
    "ele_ordered=['ag', 'pb', 'sol', 'au']\n",
    "total_cols = cols_rin_eles + cols_rout_eles + cols_pc_eles + cols_fout_eles\n",
    "for ele in ele_ordered:\n",
    "    cols = [col for col in total_cols if ele in col]\n",
    "    for col in cols:\n",
    "        df_full_ffill[col].hist(bins=25, alpha=.5, label=col, figsize=(12,4))\n",
    "    plt.ylabel('Frequency')\n",
    "    plt.xlabel('Share in [%]')\n",
    "    plt.legend()\n",
    "    plt.title('Histogramm for' + ' ' + ele)\n",
    "    plt.show();"
   ]
  },
  {
   "cell_type": "markdown",
   "id": "guided-exchange",
   "metadata": {},
   "source": [
    "> **Observations**\n",
    "> - All of them have a peek around 0\n",
    "> - Those entries should be removed because they seem to be faulty entries because an input without even a trace can not be true\n",
    "> - Thus in the next step a threshold of .001 (0.1%) in the samples has been established for valid enties"
   ]
  },
  {
   "cell_type": "code",
   "execution_count": 51,
   "id": "finite-guidance",
   "metadata": {},
   "outputs": [
    {
     "name": "stdout",
     "output_type": "stream",
     "text": [
      "Elements to drop: 725\n"
     ]
    }
   ],
   "source": [
    "# Create the mask (need to be removed from train and testset as well afterwards)\n",
    "f_ag = .01\n",
    "f_pb = .005\n",
    "f_sol = .01\n",
    "f_au = .01\n",
    "mask_val = df_full_ffill[((df_full_ffill[cols_rin_eles[0]] < f_ag) == True) | \\\n",
    "                         ((df_full_ffill[cols_rin_eles[1]] < f_pb) == True) | \\\n",
    "                         ((df_full_ffill[cols_rin_eles[2]] < f_sol) == True) | \\\n",
    "                         ((df_full_ffill[cols_rin_eles[3]] < f_au) == True) | \\\n",
    "                         ((df_full_ffill[cols_rout_eles[0]] < f_ag) == True) | \\\n",
    "                         ((df_full_ffill[cols_rout_eles[1]] < f_pb) == True) | \\\n",
    "                         ((df_full_ffill[cols_rout_eles[2]] < f_sol) == True) | \\\n",
    "                         ((df_full_ffill[cols_rout_eles[3]] < f_au) == True) | \\\n",
    "                         ((df_full_ffill[cols_pc_eles[0]] < f_ag) == True) | \\\n",
    "                         ((df_full_ffill[cols_pc_eles[1]] < f_pb) == True) | \\\n",
    "                         ((df_full_ffill[cols_pc_eles[2]] < f_sol) == True) | \\\n",
    "                         ((df_full_ffill[cols_pc_eles[3]] < f_au) == True) | \\\n",
    "                         ((df_full_ffill[cols_fout_eles[0]] < f_ag) == True) | \\\n",
    "                         ((df_full_ffill[cols_fout_eles[1]] < f_pb) == True) | \\\n",
    "                         ((df_full_ffill[cols_fout_eles[2]] < f_sol) == True) | \\\n",
    "                         ((df_full_ffill[cols_fout_eles[3]] < f_au) == True)\n",
    "                       ].index\n",
    "print('Elements to drop: {}'.format(len(mask_val)))\n",
    "df_full_ffill.drop(mask_val, axis=0, inplace=True)"
   ]
  },
  {
   "cell_type": "code",
   "execution_count": 52,
   "id": "resistant-summit",
   "metadata": {},
   "outputs": [
    {
     "data": {
      "image/png": "[encoded data removed]",
      "text/plain": [
       "<Figure size 864x288 with 1 Axes>"
      ]
     },
     "metadata": {
      "needs_background": "light"
     },
     "output_type": "display_data"
    },
    {
     "data": {
      "image/png": "[encoded data removed]",
      "text/plain": [
       "<Figure size 864x288 with 1 Axes>"
      ]
     },
     "metadata": {
      "needs_background": "light"
     },
     "output_type": "display_data"
    },
    {
     "data": {
      "image/png": "[encoded data removed]",
      "text/plain": [
       "<Figure size 864x288 with 1 Axes>"
      ]
     },
     "metadata": {
      "needs_background": "light"
     },
     "output_type": "display_data"
    },
    {
     "data": {
      "image/png": "[encoded data removed]",
      "text/plain": [
       "<Figure size 864x288 with 1 Axes>"
      ]
     },
     "metadata": {
      "needs_background": "light"
     },
     "output_type": "display_data"
    }
   ],
   "source": [
    "for ele in ele_ordered:\n",
    "    cols = [col for col in total_cols if ele in col]\n",
    "    for col in cols:\n",
    "        df_full_ffill[col].hist(bins=25, alpha=.5, label=col, figsize=(12,4))\n",
    "    plt.ylabel('Frequency')\n",
    "    plt.xlabel('Share in [%]')\n",
    "    plt.legend()\n",
    "    plt.title('Histogramm for' + ' ' + ele)\n",
    "    plt.show();"
   ]
  },
  {
   "cell_type": "markdown",
   "id": "limiting-diversity",
   "metadata": {},
   "source": [
    "> **Observations:**\n",
    "> - Suspicious peak is gone\n",
    "> - Now the distibutions look kind of legit\n",
    "> - Values need to be removed from test / train set as well\n",
    "> - Around 16% of the data was invalid. A lot of those invalid datapoints resulted from the ffill"
   ]
  },
  {
   "cell_type": "code",
   "execution_count": 53,
   "id": "drawn-profit",
   "metadata": {},
   "outputs": [],
   "source": [
    "#Drop values in test and train df\n",
    "for df in (df_test_ffill, df_train_ffill):\n",
    "    intersect = [idx for idx in mask_val if idx in df.index]\n",
    "    df.drop(intersect, axis=0, inplace=True)"
   ]
  },
  {
   "cell_type": "markdown",
   "id": "afraid-celtic",
   "metadata": {},
   "source": [
    "# 3. Build the model\n",
    "> In this step models have been built in order to predict the two recoveries to be able to calculate the final sMAPE"
   ]
  },
  {
   "cell_type": "markdown",
   "id": "unique-button",
   "metadata": {},
   "source": [
    "## 3.1. Write a function to calculate the final sMAPE value.\n",
    "> In this step a custom evaluation function for this problem has been implemented.   \n",
    "> THe evaluation metrics is calculated in 3 steps:\n",
    "> 1. Calculating sMAPE for rougher recovery\n",
    "> 2. Calculating sMAPE for porification recovery\n",
    "> 3. Add the two sMAPES in a ratio of 3 / 1\n",
    "\n",
    "> The single calculations for the sMAPE can be seen below."
   ]
  },
  {
   "cell_type": "code",
   "execution_count": 54,
   "id": "composed-stupid",
   "metadata": {},
   "outputs": [
    {
     "data": {
      "text/html": [
       "<img src=\"https://pictures.s3.yandex.net/resources/smape_1576239058_1589899769.jpg\" width=\"500\"/>"
      ],
      "text/plain": [
       "<IPython.core.display.Image object>"
      ]
     },
     "execution_count": 54,
     "metadata": {},
     "output_type": "execute_result"
    }
   ],
   "source": [
    "Image(url= \"https://pictures.s3.yandex.net/resources/smape_1576239058_1589899769.jpg\", width=500)"
   ]
  },
  {
   "cell_type": "code",
   "execution_count": 55,
   "id": "noted-accuracy",
   "metadata": {},
   "outputs": [
    {
     "data": {
      "text/html": [
       "<img src=\"https://pictures.s3.yandex.net/resources/_smape_1_1589900649.jpg\" width=\"500\"/>"
      ],
      "text/plain": [
       "<IPython.core.display.Image object>"
      ]
     },
     "execution_count": 55,
     "metadata": {},
     "output_type": "execute_result"
    }
   ],
   "source": [
    "Image(url= \"https://pictures.s3.yandex.net/resources/_smape_1_1589900649.jpg\", width=500)"
   ]
  },
  {
   "cell_type": "code",
   "execution_count": 56,
   "id": "satellite-andrews",
   "metadata": {},
   "outputs": [],
   "source": [
    "def smape_loss_func(y, y_pred):\n",
    "    '''Custom cost function which is calculating the smape for the inputs\n",
    "    arguments: \n",
    "        y: targets [list, np.array or pandas.Series]\n",
    "        y_pred: predictions [list, np.array or pandas.Series]\n",
    "    returns:\n",
    "        smape: [float]\n",
    "    '''\n",
    "    if len(y_pred) != len(y): raise ValueError('Please input arrays of same lenght')\n",
    "    n = len(y_pred)\n",
    "    nominator = abs(y - y_pred)\n",
    "    denominator = (abs(y) + abs(y_pred)) / 2\n",
    "    factor = (1 / n) * 100\n",
    "    smape = factor * ((nominator / denominator).sum())\n",
    "    return smape\n",
    "    \n",
    "\n",
    "# Create scorer for cross validation \n",
    "smape = make_scorer(smape_loss_func, greater_is_better=True)"
   ]
  },
  {
   "cell_type": "markdown",
   "id": "experienced-rhythm",
   "metadata": {},
   "source": [
    "## 3.2. Preparing the dataframe, slicing features and targets\n",
    "> Due to the fact that the train df contains 32 more features than the test df, measures have to be taken.  \n",
    "> This measures contained dropping the columns which are in train but not in testset because the assumption has been made that those values would not be available during production.  \n",
    "\n",
    "> Due to the fact, that the project requires two predictions (rougher and cleaner recovery), two models had to be trained.  \n",
    "> Those circumstances led to the fact, that the dataframe might  to be seperated for those two steps as well.  \n",
    "> Futhermore the targets and features in the test and the train set have been sliced.   "
   ]
  },
  {
   "cell_type": "markdown",
   "id": "radical-national",
   "metadata": {},
   "source": [
    "### 3.2.1. Dropping features"
   ]
  },
  {
   "cell_type": "code",
   "execution_count": 57,
   "id": "cloudy-teacher",
   "metadata": {
    "scrolled": true
   },
   "outputs": [],
   "source": [
    "# Aggregate collumns which are not in test but in train\n",
    "cols_to_drop = [col for col in df_train_ffill.columns if col not in df_test_ffill.columns]\n",
    "cols_to_drop\n",
    "# Drop aggregated cols\n",
    "df_train_ffill.drop(cols_to_drop, inplace=True, axis=1)"
   ]
  },
  {
   "cell_type": "markdown",
   "id": "excited-stability",
   "metadata": {},
   "source": [
    "### 3.2.2. Seperating dataframe "
   ]
  },
  {
   "cell_type": "code",
   "execution_count": 58,
   "id": "unique-integrity",
   "metadata": {},
   "outputs": [],
   "source": [
    "# Aggregating columns after purification step\n",
    "cols_rougher = [col for col in df_train_ffill.columns if 'rougher' in col]\n",
    "cols_cleaner = [col for col in df_train_ffill.columns if 'rougher' not in col]"
   ]
  },
  {
   "cell_type": "code",
   "execution_count": 59,
   "id": "differential-villa",
   "metadata": {},
   "outputs": [],
   "source": [
    "# Slicing rougher dfs\n",
    "df_train_rougher = df_train_ffill[cols_rougher]\n",
    "df_test_rougher = df_test_ffill[cols_rougher]\n",
    "\n",
    "# Sclicing cleaner dfs\n",
    "df_train_cleaner = df_train_ffill[cols_cleaner]\n",
    "df_test_cleaner = df_test_ffill[cols_cleaner]"
   ]
  },
  {
   "cell_type": "markdown",
   "id": "chemical-associate",
   "metadata": {},
   "source": [
    "### 3.2.3. Train and Test split for dataframes\n",
    "> In this step the dataframes have been split to check if it makes sense to train the models only on the features of their current process or the whole featureset"
   ]
  },
  {
   "cell_type": "markdown",
   "id": "listed-ordering",
   "metadata": {},
   "source": [
    "#### 3.2.3.1. With seperated dataframes"
   ]
  },
  {
   "cell_type": "code",
   "execution_count": 60,
   "id": "wrong-wells",
   "metadata": {},
   "outputs": [],
   "source": [
    "# Defining targets\n",
    "target_rougher = 'rougher.output.recovery'\n",
    "target_cleaner = 'final.output.recovery'\n",
    "\n",
    "# Splitting targets and features\n",
    "# Rougher\n",
    "X_train_rs = df_train_rougher.drop(target_rougher, axis=1)\n",
    "y_train_rs = df_train_rougher[target_rougher]\n",
    "\n",
    "X_test_rs = df_test_rougher.drop(target_rougher, axis=1)\n",
    "y_test_rs = df_test_rougher[target_rougher]\n",
    "\n",
    "# Flotation\n",
    "X_train_cs = df_train_cleaner.drop(target_cleaner, axis=1)\n",
    "y_train_cs = df_train_cleaner[target_cleaner]\n",
    "\n",
    "X_test_cs = df_test_cleaner.drop(target_cleaner, axis=1)\n",
    "y_test_cs = df_test_cleaner[target_cleaner]"
   ]
  },
  {
   "cell_type": "markdown",
   "id": "visible-murray",
   "metadata": {},
   "source": [
    "#### 3.2.3.2. With one dataframe"
   ]
  },
  {
   "cell_type": "code",
   "execution_count": 61,
   "id": "structured-bhutan",
   "metadata": {},
   "outputs": [],
   "source": [
    "# Defining targets\n",
    "target_rougher = 'rougher.output.recovery'\n",
    "target_cleaner = 'final.output.recovery'\n",
    "\n",
    "# Splitting targets and features\n",
    "# Rougher\n",
    "X_train_rcomb = df_train_ffill.drop(target_rougher, axis=1)\n",
    "y_train_rcomb = df_train_ffill[target_rougher]\n",
    "\n",
    "X_test_rcomb = df_test_ffill.drop(target_rougher, axis=1)\n",
    "y_test_rcomb = df_test_ffill[target_rougher]\n",
    "\n",
    "# Flotation\n",
    "X_train_ccomb = df_train_ffill.drop(target_cleaner, axis=1)\n",
    "y_train_ccomb = df_train_ffill[target_cleaner]\n",
    "\n",
    "X_test_ccomb = df_test_ffill.drop(target_cleaner, axis=1)\n",
    "y_test_ccomb = df_test_ffill[target_cleaner]"
   ]
  },
  {
   "cell_type": "markdown",
   "id": "stuck-basketball",
   "metadata": {},
   "source": [
    "## 3.3. Train different models "
   ]
  },
  {
   "cell_type": "markdown",
   "id": "drawn-mills",
   "metadata": {},
   "source": [
    "> The function below are used within the evaluation process to find the best fitting algorithm and hyperparameter set"
   ]
  },
  {
   "cell_type": "code",
   "execution_count": 62,
   "id": "charitable-crime",
   "metadata": {},
   "outputs": [],
   "source": [
    "def print_header():\n",
    "    '''Helper function. Prinds head for analysis'''\n",
    "    print('%-11s | %-10s | %-5s' %\n",
    "              ('Regressor',  'Mean smape', 'STD'))\n",
    "    print('-'*35)"
   ]
  },
  {
   "cell_type": "code",
   "execution_count": 63,
   "id": "exposed-handling",
   "metadata": {},
   "outputs": [],
   "source": [
    "def display_results(results, names):\n",
    "    '''Helper function. Prints results'''\n",
    "    print_header()    \n",
    "    for name, result in zip(names, results):\n",
    "        msg = '%-10s: | %-10f | %f' % (name, result.mean(), result.std())\n",
    "        print(msg)"
   ]
  },
  {
   "cell_type": "code",
   "execution_count": 64,
   "id": "exact-recipient",
   "metadata": {},
   "outputs": [],
   "source": [
    "def create_pipe():\n",
    "    pipe = []\n",
    "    pipe.append(('ScaledLR', Pipeline([('Scaler', StandardScaler()),('LR', LinearRegression())])))\n",
    "    pipe.append(('ScaledKNN', Pipeline([('Scaler', StandardScaler()),('KNN', KNeighborsRegressor())])))\n",
    "    pipe.append(('ScaledRFR', Pipeline([('Scaler', StandardScaler()),\n",
    "                                        ('RFR', RandomForestRegressor(random_state=RANDOM_STATE))])))\n",
    "    pipe.append(('ScaledGBM', Pipeline([('Scaler', StandardScaler()),\n",
    "                                        ('GBM', GradientBoostingRegressor(random_state=RANDOM_STATE))])))\n",
    "    pipe.append(('Dummy', Pipeline([('Scaler', StandardScaler()), ('Dummy', DummyRegressor())])))\n",
    "    return pipe"
   ]
  },
  {
   "cell_type": "code",
   "execution_count": 65,
   "id": "abroad-debut",
   "metadata": {},
   "outputs": [],
   "source": [
    "def cv_piped_models(pipe, X_train, y_train):\n",
    "    results = []\n",
    "    names = []\n",
    "    for name, model in pipe:\n",
    "        kfold = KFold(n_splits=10, random_state=RANDOM_STATE)\n",
    "        cv_results = cross_val_score(model, X_train, y_train, cv=kfold, scoring=smape)\n",
    "        results.append(cv_results)\n",
    "        names.append(name)\n",
    "    return(results, names)"
   ]
  },
  {
   "cell_type": "markdown",
   "id": "sustainable-association",
   "metadata": {},
   "source": [
    "### 3.3.1. Model evaluation rougher\n",
    "> In this step the Machine Learning algorithm for the rougher process has been investigated with standard scaled data (brings better results, was tested) to select a ML algorithm for further improvement"
   ]
  },
  {
   "cell_type": "markdown",
   "id": "relative-alberta",
   "metadata": {},
   "source": [
    "#### 3.3.1.1. Separated dataframes"
   ]
  },
  {
   "cell_type": "code",
   "execution_count": 66,
   "id": "difficult-mention",
   "metadata": {
    "collapsed": true,
    "jupyter": {
     "outputs_hidden": true
    }
   },
   "outputs": [
    {
     "name": "stderr",
     "output_type": "stream",
     "text": [
      "C:\\Users\\JonathanLang\\.conda\\envs\\practicum\\lib\\site-packages\\sklearn\\ensemble\\forest.py:245: FutureWarning: The default value of n_estimators will change from 10 in version 0.20 to 100 in 0.22.\n",
      "  \"10 in version 0.20 to 100 in 0.22.\", FutureWarning)\n",
      "C:\\Users\\JonathanLang\\.conda\\envs\\practicum\\lib\\site-packages\\sklearn\\ensemble\\forest.py:245: FutureWarning: The default value of n_estimators will change from 10 in version 0.20 to 100 in 0.22.\n",
      "  \"10 in version 0.20 to 100 in 0.22.\", FutureWarning)\n",
      "C:\\Users\\JonathanLang\\.conda\\envs\\practicum\\lib\\site-packages\\sklearn\\ensemble\\forest.py:245: FutureWarning: The default value of n_estimators will change from 10 in version 0.20 to 100 in 0.22.\n",
      "  \"10 in version 0.20 to 100 in 0.22.\", FutureWarning)\n",
      "C:\\Users\\JonathanLang\\.conda\\envs\\practicum\\lib\\site-packages\\sklearn\\ensemble\\forest.py:245: FutureWarning: The default value of n_estimators will change from 10 in version 0.20 to 100 in 0.22.\n",
      "  \"10 in version 0.20 to 100 in 0.22.\", FutureWarning)\n",
      "C:\\Users\\JonathanLang\\.conda\\envs\\practicum\\lib\\site-packages\\sklearn\\ensemble\\forest.py:245: FutureWarning: The default value of n_estimators will change from 10 in version 0.20 to 100 in 0.22.\n",
      "  \"10 in version 0.20 to 100 in 0.22.\", FutureWarning)\n",
      "C:\\Users\\JonathanLang\\.conda\\envs\\practicum\\lib\\site-packages\\sklearn\\ensemble\\forest.py:245: FutureWarning: The default value of n_estimators will change from 10 in version 0.20 to 100 in 0.22.\n",
      "  \"10 in version 0.20 to 100 in 0.22.\", FutureWarning)\n",
      "C:\\Users\\JonathanLang\\.conda\\envs\\practicum\\lib\\site-packages\\sklearn\\ensemble\\forest.py:245: FutureWarning: The default value of n_estimators will change from 10 in version 0.20 to 100 in 0.22.\n",
      "  \"10 in version 0.20 to 100 in 0.22.\", FutureWarning)\n",
      "C:\\Users\\JonathanLang\\.conda\\envs\\practicum\\lib\\site-packages\\sklearn\\ensemble\\forest.py:245: FutureWarning: The default value of n_estimators will change from 10 in version 0.20 to 100 in 0.22.\n",
      "  \"10 in version 0.20 to 100 in 0.22.\", FutureWarning)\n",
      "C:\\Users\\JonathanLang\\.conda\\envs\\practicum\\lib\\site-packages\\sklearn\\ensemble\\forest.py:245: FutureWarning: The default value of n_estimators will change from 10 in version 0.20 to 100 in 0.22.\n",
      "  \"10 in version 0.20 to 100 in 0.22.\", FutureWarning)\n",
      "C:\\Users\\JonathanLang\\.conda\\envs\\practicum\\lib\\site-packages\\sklearn\\ensemble\\forest.py:245: FutureWarning: The default value of n_estimators will change from 10 in version 0.20 to 100 in 0.22.\n",
      "  \"10 in version 0.20 to 100 in 0.22.\", FutureWarning)\n"
     ]
    }
   ],
   "source": [
    "# Aggregating different models for sequential cv\n",
    "pipe_rs = create_pipe()\n",
    "results_rs, names_rs = cv_piped_models(pipe_rs, X_train_rs, y_train_rs)"
   ]
  },
  {
   "cell_type": "code",
   "execution_count": 67,
   "id": "enabling-lounge",
   "metadata": {},
   "outputs": [
    {
     "name": "stdout",
     "output_type": "stream",
     "text": [
      "Regressor   | Mean smape | STD  \n",
      "-----------------------------------\n",
      "ScaledLR  : | 6.023508   | 1.371422\n",
      "ScaledKNN : | 7.903813   | 2.798808\n",
      "ScaledRFR : | 6.979666   | 1.838740\n",
      "ScaledGBM : | 6.315725   | 1.866243\n",
      "Dummy     : | 7.684446   | 2.244995\n"
     ]
    }
   ],
   "source": [
    "display_results(results_rs, names_rs)"
   ]
  },
  {
   "cell_type": "markdown",
   "id": "confused-sterling",
   "metadata": {},
   "source": [
    ">  **Observations:**\n",
    "> - Linear regression seems to be by far the best fitting one for this problem. It shows the lowest sMAPE and the lowest variance, which means that it is the most robust to different input  \n",
    "> - KNN performs worse than a dummy regressor which predicts mean all the time, so should not be used for this project"
   ]
  },
  {
   "cell_type": "markdown",
   "id": "preceding-recovery",
   "metadata": {},
   "source": [
    "#### 3.3.1.2. Combined dataframe"
   ]
  },
  {
   "cell_type": "code",
   "execution_count": 68,
   "id": "handled-poetry",
   "metadata": {
    "collapsed": true,
    "jupyter": {
     "outputs_hidden": true
    }
   },
   "outputs": [
    {
     "name": "stderr",
     "output_type": "stream",
     "text": [
      "C:\\Users\\JonathanLang\\.conda\\envs\\practicum\\lib\\site-packages\\sklearn\\ensemble\\forest.py:245: FutureWarning: The default value of n_estimators will change from 10 in version 0.20 to 100 in 0.22.\n",
      "  \"10 in version 0.20 to 100 in 0.22.\", FutureWarning)\n",
      "C:\\Users\\JonathanLang\\.conda\\envs\\practicum\\lib\\site-packages\\sklearn\\ensemble\\forest.py:245: FutureWarning: The default value of n_estimators will change from 10 in version 0.20 to 100 in 0.22.\n",
      "  \"10 in version 0.20 to 100 in 0.22.\", FutureWarning)\n",
      "C:\\Users\\JonathanLang\\.conda\\envs\\practicum\\lib\\site-packages\\sklearn\\ensemble\\forest.py:245: FutureWarning: The default value of n_estimators will change from 10 in version 0.20 to 100 in 0.22.\n",
      "  \"10 in version 0.20 to 100 in 0.22.\", FutureWarning)\n",
      "C:\\Users\\JonathanLang\\.conda\\envs\\practicum\\lib\\site-packages\\sklearn\\ensemble\\forest.py:245: FutureWarning: The default value of n_estimators will change from 10 in version 0.20 to 100 in 0.22.\n",
      "  \"10 in version 0.20 to 100 in 0.22.\", FutureWarning)\n",
      "C:\\Users\\JonathanLang\\.conda\\envs\\practicum\\lib\\site-packages\\sklearn\\ensemble\\forest.py:245: FutureWarning: The default value of n_estimators will change from 10 in version 0.20 to 100 in 0.22.\n",
      "  \"10 in version 0.20 to 100 in 0.22.\", FutureWarning)\n",
      "C:\\Users\\JonathanLang\\.conda\\envs\\practicum\\lib\\site-packages\\sklearn\\ensemble\\forest.py:245: FutureWarning: The default value of n_estimators will change from 10 in version 0.20 to 100 in 0.22.\n",
      "  \"10 in version 0.20 to 100 in 0.22.\", FutureWarning)\n",
      "C:\\Users\\JonathanLang\\.conda\\envs\\practicum\\lib\\site-packages\\sklearn\\ensemble\\forest.py:245: FutureWarning: The default value of n_estimators will change from 10 in version 0.20 to 100 in 0.22.\n",
      "  \"10 in version 0.20 to 100 in 0.22.\", FutureWarning)\n",
      "C:\\Users\\JonathanLang\\.conda\\envs\\practicum\\lib\\site-packages\\sklearn\\ensemble\\forest.py:245: FutureWarning: The default value of n_estimators will change from 10 in version 0.20 to 100 in 0.22.\n",
      "  \"10 in version 0.20 to 100 in 0.22.\", FutureWarning)\n",
      "C:\\Users\\JonathanLang\\.conda\\envs\\practicum\\lib\\site-packages\\sklearn\\ensemble\\forest.py:245: FutureWarning: The default value of n_estimators will change from 10 in version 0.20 to 100 in 0.22.\n",
      "  \"10 in version 0.20 to 100 in 0.22.\", FutureWarning)\n",
      "C:\\Users\\JonathanLang\\.conda\\envs\\practicum\\lib\\site-packages\\sklearn\\ensemble\\forest.py:245: FutureWarning: The default value of n_estimators will change from 10 in version 0.20 to 100 in 0.22.\n",
      "  \"10 in version 0.20 to 100 in 0.22.\", FutureWarning)\n"
     ]
    }
   ],
   "source": [
    "pipe_rcomb = create_pipe()\n",
    "results_rcomb, names_rcomb = cv_piped_models(pipe_rcomb, X_train_rcomb, y_train_rcomb)"
   ]
  },
  {
   "cell_type": "code",
   "execution_count": 69,
   "id": "prepared-madison",
   "metadata": {},
   "outputs": [
    {
     "name": "stdout",
     "output_type": "stream",
     "text": [
      "Regressor   | Mean smape | STD  \n",
      "-----------------------------------\n",
      "ScaledLR  : | 5.258767   | 0.929095\n",
      "ScaledKNN : | 6.828586   | 1.625412\n",
      "ScaledRFR : | 5.349528   | 1.171809\n",
      "ScaledGBM : | 5.006077   | 1.069217\n",
      "Dummy     : | 7.684446   | 2.244995\n"
     ]
    }
   ],
   "source": [
    "display_results(results_rcomb, names_rcomb)"
   ]
  },
  {
   "cell_type": "markdown",
   "id": "floral-outline",
   "metadata": {},
   "source": [
    "> **Observations:**\n",
    "> - The model trained with the complete set of features shows overall better results. In this setup all models are far better than the Dummy regressor whereas KNN still is the worsed regressor and should not be used for this problem\n",
    "> - Gradiend boosting (GBM) seems to work better with the full dataset than linear regression "
   ]
  },
  {
   "cell_type": "markdown",
   "id": "ethical-texture",
   "metadata": {},
   "source": [
    "### 3.3.2 Model evaluation cleaner\n",
    "> In this step the Machine Learning algorithm for the cleaner process has been investigated with standard scaled data (brings better results, was tested) "
   ]
  },
  {
   "cell_type": "markdown",
   "id": "unique-angola",
   "metadata": {},
   "source": [
    "#### 3.3.2.1. Separated dataframes"
   ]
  },
  {
   "cell_type": "code",
   "execution_count": 70,
   "id": "public-question",
   "metadata": {
    "collapsed": true,
    "jupyter": {
     "outputs_hidden": true
    },
    "scrolled": true
   },
   "outputs": [
    {
     "name": "stderr",
     "output_type": "stream",
     "text": [
      "C:\\Users\\JonathanLang\\.conda\\envs\\practicum\\lib\\site-packages\\sklearn\\ensemble\\forest.py:245: FutureWarning: The default value of n_estimators will change from 10 in version 0.20 to 100 in 0.22.\n",
      "  \"10 in version 0.20 to 100 in 0.22.\", FutureWarning)\n",
      "C:\\Users\\JonathanLang\\.conda\\envs\\practicum\\lib\\site-packages\\sklearn\\ensemble\\forest.py:245: FutureWarning: The default value of n_estimators will change from 10 in version 0.20 to 100 in 0.22.\n",
      "  \"10 in version 0.20 to 100 in 0.22.\", FutureWarning)\n",
      "C:\\Users\\JonathanLang\\.conda\\envs\\practicum\\lib\\site-packages\\sklearn\\ensemble\\forest.py:245: FutureWarning: The default value of n_estimators will change from 10 in version 0.20 to 100 in 0.22.\n",
      "  \"10 in version 0.20 to 100 in 0.22.\", FutureWarning)\n",
      "C:\\Users\\JonathanLang\\.conda\\envs\\practicum\\lib\\site-packages\\sklearn\\ensemble\\forest.py:245: FutureWarning: The default value of n_estimators will change from 10 in version 0.20 to 100 in 0.22.\n",
      "  \"10 in version 0.20 to 100 in 0.22.\", FutureWarning)\n",
      "C:\\Users\\JonathanLang\\.conda\\envs\\practicum\\lib\\site-packages\\sklearn\\ensemble\\forest.py:245: FutureWarning: The default value of n_estimators will change from 10 in version 0.20 to 100 in 0.22.\n",
      "  \"10 in version 0.20 to 100 in 0.22.\", FutureWarning)\n",
      "C:\\Users\\JonathanLang\\.conda\\envs\\practicum\\lib\\site-packages\\sklearn\\ensemble\\forest.py:245: FutureWarning: The default value of n_estimators will change from 10 in version 0.20 to 100 in 0.22.\n",
      "  \"10 in version 0.20 to 100 in 0.22.\", FutureWarning)\n",
      "C:\\Users\\JonathanLang\\.conda\\envs\\practicum\\lib\\site-packages\\sklearn\\ensemble\\forest.py:245: FutureWarning: The default value of n_estimators will change from 10 in version 0.20 to 100 in 0.22.\n",
      "  \"10 in version 0.20 to 100 in 0.22.\", FutureWarning)\n",
      "C:\\Users\\JonathanLang\\.conda\\envs\\practicum\\lib\\site-packages\\sklearn\\ensemble\\forest.py:245: FutureWarning: The default value of n_estimators will change from 10 in version 0.20 to 100 in 0.22.\n",
      "  \"10 in version 0.20 to 100 in 0.22.\", FutureWarning)\n",
      "C:\\Users\\JonathanLang\\.conda\\envs\\practicum\\lib\\site-packages\\sklearn\\ensemble\\forest.py:245: FutureWarning: The default value of n_estimators will change from 10 in version 0.20 to 100 in 0.22.\n",
      "  \"10 in version 0.20 to 100 in 0.22.\", FutureWarning)\n",
      "C:\\Users\\JonathanLang\\.conda\\envs\\practicum\\lib\\site-packages\\sklearn\\ensemble\\forest.py:245: FutureWarning: The default value of n_estimators will change from 10 in version 0.20 to 100 in 0.22.\n",
      "  \"10 in version 0.20 to 100 in 0.22.\", FutureWarning)\n"
     ]
    }
   ],
   "source": [
    "pipe_cs = create_pipe()\n",
    "results_cs, names_cs = cv_piped_models(pipe_cs, X_train_cs, y_train_cs)"
   ]
  },
  {
   "cell_type": "code",
   "execution_count": 71,
   "id": "forced-australia",
   "metadata": {},
   "outputs": [
    {
     "name": "stdout",
     "output_type": "stream",
     "text": [
      "Regressor   | Mean smape | STD  \n",
      "-----------------------------------\n",
      "ScaledLR  : | 9.535955   | 1.045550\n",
      "ScaledKNN : | 10.811449  | 1.250978\n",
      "ScaledRFR : | 10.764878  | 1.305254\n",
      "ScaledGBM : | 9.674884   | 1.073818\n",
      "Dummy     : | 10.320850  | 1.384159\n"
     ]
    }
   ],
   "source": [
    "display_results(results_cs, names_cs)"
   ]
  },
  {
   "cell_type": "markdown",
   "id": "hungarian-barrier",
   "metadata": {},
   "source": [
    "#### 3.3.2.2.. Combined dataframes"
   ]
  },
  {
   "cell_type": "code",
   "execution_count": 72,
   "id": "crucial-hamburg",
   "metadata": {
    "collapsed": true,
    "jupyter": {
     "outputs_hidden": true
    }
   },
   "outputs": [
    {
     "name": "stderr",
     "output_type": "stream",
     "text": [
      "C:\\Users\\JonathanLang\\.conda\\envs\\practicum\\lib\\site-packages\\sklearn\\ensemble\\forest.py:245: FutureWarning: The default value of n_estimators will change from 10 in version 0.20 to 100 in 0.22.\n",
      "  \"10 in version 0.20 to 100 in 0.22.\", FutureWarning)\n",
      "C:\\Users\\JonathanLang\\.conda\\envs\\practicum\\lib\\site-packages\\sklearn\\ensemble\\forest.py:245: FutureWarning: The default value of n_estimators will change from 10 in version 0.20 to 100 in 0.22.\n",
      "  \"10 in version 0.20 to 100 in 0.22.\", FutureWarning)\n",
      "C:\\Users\\JonathanLang\\.conda\\envs\\practicum\\lib\\site-packages\\sklearn\\ensemble\\forest.py:245: FutureWarning: The default value of n_estimators will change from 10 in version 0.20 to 100 in 0.22.\n",
      "  \"10 in version 0.20 to 100 in 0.22.\", FutureWarning)\n",
      "C:\\Users\\JonathanLang\\.conda\\envs\\practicum\\lib\\site-packages\\sklearn\\ensemble\\forest.py:245: FutureWarning: The default value of n_estimators will change from 10 in version 0.20 to 100 in 0.22.\n",
      "  \"10 in version 0.20 to 100 in 0.22.\", FutureWarning)\n",
      "C:\\Users\\JonathanLang\\.conda\\envs\\practicum\\lib\\site-packages\\sklearn\\ensemble\\forest.py:245: FutureWarning: The default value of n_estimators will change from 10 in version 0.20 to 100 in 0.22.\n",
      "  \"10 in version 0.20 to 100 in 0.22.\", FutureWarning)\n",
      "C:\\Users\\JonathanLang\\.conda\\envs\\practicum\\lib\\site-packages\\sklearn\\ensemble\\forest.py:245: FutureWarning: The default value of n_estimators will change from 10 in version 0.20 to 100 in 0.22.\n",
      "  \"10 in version 0.20 to 100 in 0.22.\", FutureWarning)\n",
      "C:\\Users\\JonathanLang\\.conda\\envs\\practicum\\lib\\site-packages\\sklearn\\ensemble\\forest.py:245: FutureWarning: The default value of n_estimators will change from 10 in version 0.20 to 100 in 0.22.\n",
      "  \"10 in version 0.20 to 100 in 0.22.\", FutureWarning)\n",
      "C:\\Users\\JonathanLang\\.conda\\envs\\practicum\\lib\\site-packages\\sklearn\\ensemble\\forest.py:245: FutureWarning: The default value of n_estimators will change from 10 in version 0.20 to 100 in 0.22.\n",
      "  \"10 in version 0.20 to 100 in 0.22.\", FutureWarning)\n",
      "C:\\Users\\JonathanLang\\.conda\\envs\\practicum\\lib\\site-packages\\sklearn\\ensemble\\forest.py:245: FutureWarning: The default value of n_estimators will change from 10 in version 0.20 to 100 in 0.22.\n",
      "  \"10 in version 0.20 to 100 in 0.22.\", FutureWarning)\n",
      "C:\\Users\\JonathanLang\\.conda\\envs\\practicum\\lib\\site-packages\\sklearn\\ensemble\\forest.py:245: FutureWarning: The default value of n_estimators will change from 10 in version 0.20 to 100 in 0.22.\n",
      "  \"10 in version 0.20 to 100 in 0.22.\", FutureWarning)\n"
     ]
    }
   ],
   "source": [
    "pipe_ccomb = create_pipe()\n",
    "results_ccomb, names_ccomb = cv_piped_models(pipe_ccomb, X_train_ccomb, y_train_ccomb)"
   ]
  },
  {
   "cell_type": "code",
   "execution_count": 73,
   "id": "polished-fundamentals",
   "metadata": {},
   "outputs": [
    {
     "name": "stdout",
     "output_type": "stream",
     "text": [
      "Regressor   | Mean smape | STD  \n",
      "-----------------------------------\n",
      "ScaledLR  : | 8.313473   | 1.160248\n",
      "ScaledKNN : | 10.095536  | 1.447356\n",
      "ScaledRFR : | 8.564364   | 0.923768\n",
      "ScaledGBM : | 7.663240   | 0.937938\n",
      "Dummy     : | 10.320850  | 1.384159\n"
     ]
    }
   ],
   "source": [
    "display_results(results_ccomb, names_ccomb)"
   ]
  },
  {
   "cell_type": "markdown",
   "id": "mature-surname",
   "metadata": {},
   "source": [
    "> **Observations:**\n",
    "> - The sMAPEs of the second stage are much higher than the smapes of the first stage\n",
    "> - The model trained with the complete set of features shows better results\n",
    "> - Gradient boost regressor seems to be by far the best fitting one for this problem. It shows the lowest sMAPE and more or less the same variance than the Random forest regressor. This means means that it is the most robust to different inputs. "
   ]
  },
  {
   "cell_type": "markdown",
   "id": "judicial-taxation",
   "metadata": {},
   "source": [
    "## 3.4. Final evaluation"
   ]
  },
  {
   "cell_type": "code",
   "execution_count": 74,
   "id": "latest-compromise",
   "metadata": {},
   "outputs": [],
   "source": [
    "def print_header_eval():\n",
    "    '''Helper function. Prinds head for analysis'''\n",
    "    print('%-11s | %-10s' % ('Regressor',  'Smape'))\n",
    "    print('-'*35)\n",
    "def display_results_eval(results, names):\n",
    "    '''Helper function. Prints results'''\n",
    "    print_header_eval()    \n",
    "    for name, result in zip(names, results):\n",
    "        msg = '%-10s: | %-10f' % (name, result.mean())\n",
    "        print(msg)"
   ]
  },
  {
   "cell_type": "code",
   "execution_count": 75,
   "id": "looking-gothic",
   "metadata": {},
   "outputs": [],
   "source": [
    "def valid_piped_models(pipe, X_test, X_train, y_test, y_train):\n",
    "    results = []\n",
    "    names = []\n",
    "    for name, model in pipe:\n",
    "        model.fit(X_train, y_train)\n",
    "        smape_ = smape(model, X_test, y_test)\n",
    "        results.append(smape_)\n",
    "        names.append(name)\n",
    "    return(results, names)"
   ]
  },
  {
   "cell_type": "markdown",
   "id": "confirmed-administration",
   "metadata": {},
   "source": [
    "### 3.4.1. Rougher\n"
   ]
  },
  {
   "cell_type": "code",
   "execution_count": 76,
   "id": "supreme-payday",
   "metadata": {},
   "outputs": [
    {
     "name": "stderr",
     "output_type": "stream",
     "text": [
      "C:\\Users\\JonathanLang\\.conda\\envs\\practicum\\lib\\site-packages\\sklearn\\ensemble\\forest.py:245: FutureWarning: The default value of n_estimators will change from 10 in version 0.20 to 100 in 0.22.\n",
      "  \"10 in version 0.20 to 100 in 0.22.\", FutureWarning)\n"
     ]
    },
    {
     "name": "stdout",
     "output_type": "stream",
     "text": [
      "Regressor   | Smape     \n",
      "-----------------------------------\n",
      "ScaledLR  : | 116.633028\n",
      "ScaledKNN : | 5.110400  \n",
      "ScaledRFR : | 5.122707  \n",
      "ScaledGBM : | 43.140887 \n",
      "Dummy     : | 5.355039  \n"
     ]
    }
   ],
   "source": [
    "# Testing performance on combined dataframe\n",
    "valid_r_comb = create_pipe()\n",
    "display_results_eval(*valid_piped_models(\n",
    "    valid_r_comb, X_test_rcomb, X_train_rcomb, y_test_rcomb, y_train_rcomb))"
   ]
  },
  {
   "cell_type": "markdown",
   "id": "outside-belarus",
   "metadata": {},
   "source": [
    "> **Observation:**\n",
    "> - Linear regression and Gradient boosting turn out to be pretty bad. Also Knn and Random forests are only slightly better than the dummy model.\n",
    "> - This needs investigation"
   ]
  },
  {
   "cell_type": "code",
   "execution_count": 77,
   "id": "prerequisite-daughter",
   "metadata": {},
   "outputs": [
    {
     "data": {
      "text/plain": [
       "array([434.8007413 , 420.10473766, 423.25876934, ..., 732.32521801,\n",
       "       742.68799552, 752.99996275])"
      ]
     },
     "execution_count": 77,
     "metadata": {},
     "output_type": "execute_result"
    }
   ],
   "source": [
    "# Train Linreg for rougher\n",
    "pipe_r = Pipeline([('Scaler', StandardScaler()),('LR', LinearRegression())])\n",
    "pipe_r.fit(X_train_rcomb, y_train_rcomb)\n",
    "pipe_r.predict(X_test_rcomb)"
   ]
  },
  {
   "cell_type": "markdown",
   "id": "greater-thesaurus",
   "metadata": {},
   "source": [
    "> Those concentrations are not valid. This is most likely the case because the entirely feature set is used for the prediction from the rougher process. Thus some data of the purification process might influence the model accuracy  \n",
    "> To test that theory, the featureset of the rougher process only will be tested in the next step"
   ]
  },
  {
   "cell_type": "code",
   "execution_count": 78,
   "id": "capable-wells",
   "metadata": {},
   "outputs": [
    {
     "name": "stderr",
     "output_type": "stream",
     "text": [
      "C:\\Users\\JonathanLang\\.conda\\envs\\practicum\\lib\\site-packages\\sklearn\\ensemble\\forest.py:245: FutureWarning: The default value of n_estimators will change from 10 in version 0.20 to 100 in 0.22.\n",
      "  \"10 in version 0.20 to 100 in 0.22.\", FutureWarning)\n"
     ]
    },
    {
     "name": "stdout",
     "output_type": "stream",
     "text": [
      "Regressor   | Smape     \n",
      "-----------------------------------\n",
      "ScaledLR  : | 4.538030  \n",
      "ScaledKNN : | 4.890433  \n",
      "ScaledRFR : | 4.817828  \n",
      "ScaledGBM : | 3.919166  \n",
      "Dummy     : | 5.355039  \n"
     ]
    }
   ],
   "source": [
    "# Testing performance on seperated dataframe\n",
    "valid_r_sep = create_pipe()\n",
    "display_results_eval(*valid_piped_models(\n",
    "    valid_r_sep, X_test_rs, X_train_rs, y_test_rs, y_train_rs))"
   ]
  },
  {
   "cell_type": "markdown",
   "id": "present-fossil",
   "metadata": {},
   "source": [
    "> **Observations:**\n",
    "> - The Reason for the invalid predictions was the use of the whole featureset.  \n",
    "> - All regressors are now way better than the dummy regressor\n",
    "> - Scaled Gradied boosting seems to be the regressor to go for this project. Its hyperparameters will be tuned later on to increase its accuracy"
   ]
  },
  {
   "cell_type": "markdown",
   "id": "initial-driving",
   "metadata": {},
   "source": [
    "### 3.4.2. Flotation"
   ]
  },
  {
   "cell_type": "code",
   "execution_count": 79,
   "id": "monetary-funeral",
   "metadata": {},
   "outputs": [
    {
     "name": "stderr",
     "output_type": "stream",
     "text": [
      "C:\\Users\\JonathanLang\\.conda\\envs\\practicum\\lib\\site-packages\\sklearn\\ensemble\\forest.py:245: FutureWarning: The default value of n_estimators will change from 10 in version 0.20 to 100 in 0.22.\n",
      "  \"10 in version 0.20 to 100 in 0.22.\", FutureWarning)\n"
     ]
    },
    {
     "name": "stdout",
     "output_type": "stream",
     "text": [
      "Regressor   | Smape     \n",
      "-----------------------------------\n",
      "ScaledLR  : | 149.786551\n",
      "ScaledKNN : | 17.299184 \n",
      "ScaledRFR : | 10.644546 \n",
      "ScaledGBM : | 8.747459  \n",
      "Dummy     : | 8.576008  \n"
     ]
    }
   ],
   "source": [
    "# Testing performance on combined dataframe\n",
    "valid_f_ccomb = create_pipe()\n",
    "display_results_eval(*valid_piped_models(\n",
    "    valid_f_ccomb, X_test_ccomb, X_train_ccomb, y_test_ccomb, y_train_ccomb))"
   ]
  },
  {
   "cell_type": "markdown",
   "id": "continental-carolina",
   "metadata": {},
   "source": [
    "> All regressors are worse than the dummy regressor by using the complete dataset  \n",
    "> -> Thus the dataset with the limited featureset will be tested"
   ]
  },
  {
   "cell_type": "code",
   "execution_count": 80,
   "id": "through-clone",
   "metadata": {},
   "outputs": [
    {
     "name": "stderr",
     "output_type": "stream",
     "text": [
      "C:\\Users\\JonathanLang\\.conda\\envs\\practicum\\lib\\site-packages\\sklearn\\ensemble\\forest.py:245: FutureWarning: The default value of n_estimators will change from 10 in version 0.20 to 100 in 0.22.\n",
      "  \"10 in version 0.20 to 100 in 0.22.\", FutureWarning)\n"
     ]
    },
    {
     "name": "stdout",
     "output_type": "stream",
     "text": [
      "Regressor   | Smape     \n",
      "-----------------------------------\n",
      "ScaledLR  : | 8.170717  \n",
      "ScaledKNN : | 11.119314 \n",
      "ScaledRFR : | 12.810564 \n",
      "ScaledGBM : | 9.356001  \n",
      "Dummy     : | 8.576008  \n"
     ]
    }
   ],
   "source": [
    "# Testing performance on combined dataframe\n",
    "valid_f_cs = create_pipe()\n",
    "display_results_eval(*valid_piped_models(\n",
    "    valid_f_cs, X_test_cs, X_train_cs, y_test_cs, y_train_cs))"
   ]
  },
  {
   "cell_type": "markdown",
   "id": "female-mystery",
   "metadata": {},
   "source": [
    "> **Observations:**\n",
    "> - The mean here is with 8.57 (outcome dummy) much lower than the mean of the test set during cross validation 10.32. (dummy regressor)  \n",
    "> This might be a reason for the bad results, that the test and train set differ drastically\n",
    "> - The linear regressor of the linear model seems to have the best outcome and is the only one better than the dummy regressor.   \n",
    "> \\-\\> Due to the fact, that it was the second best solution for the cross validation this will be choosen for the purification stage"
   ]
  },
  {
   "cell_type": "markdown",
   "id": "technological-heating",
   "metadata": {},
   "source": [
    "### 3.5 hyperparameter tuning gradiend boost rougher"
   ]
  },
  {
   "cell_type": "code",
   "execution_count": 81,
   "id": "unauthorized-cedar",
   "metadata": {},
   "outputs": [],
   "source": [
    "# Creating pipeline with scaler and gradient boost regressor\n",
    "pipe_r_tun = Pipeline([('Scaler', StandardScaler()),\n",
    "                       ('GBM', GradientBoostingRegressor(random_state=RANDOM_STATE))])\n",
    "\n",
    "# Assembling param Grid for randomized grid serach\n",
    "param_grid = {\n",
    "    'GBM__n_estimators': [50, 100, 150],\n",
    "    'GBM__max_depth': [5,10,15],\n",
    "    'GBM__min_samples_leaf': [1,3,5],\n",
    "    'GBM__min_samples_split': [2,5,8]\n",
    "}\n",
    "rand_search = RandomizedSearchCV(\n",
    "    estimator = pipe_r_tun,\n",
    "    param_distributions=param_grid, \n",
    "    n_iter=50,\n",
    "    scoring=smape,\n",
    "    cv=5,\n",
    "    verbose=2,\n",
    "    random_state=RANDOM_STATE,\n",
    "    n_jobs=-1,\n",
    "    return_train_score=True\n",
    ")\n",
    "retrain = 1\n",
    "if retrain:\n",
    "    rand_search.fit(X_train_rs, y_train_rs);\n",
    "else:\n",
    "    rand_search = joblib.load('.\\Gradient_boost_search.joblib')"
   ]
  },
  {
   "cell_type": "code",
   "execution_count": 82,
   "id": "fixed-technical",
   "metadata": {},
   "outputs": [
    {
     "data": {
      "text/plain": [
       "7.241683591563642"
      ]
     },
     "execution_count": 82,
     "metadata": {},
     "output_type": "execute_result"
    }
   ],
   "source": [
    "rand_search.best_score_"
   ]
  },
  {
   "cell_type": "code",
   "execution_count": 83,
   "id": "thick-waterproof",
   "metadata": {},
   "outputs": [],
   "source": [
    "# Creating pipeline with scaler and gradient boost regressor\n",
    "pipe_r_tun_1 = Pipeline([('Scaler', StandardScaler()),\n",
    "                       ('GBM', GradientBoostingRegressor(random_state=RANDOM_STATE))])\n",
    "\n",
    "# Assembling param Grid for randomized grid serach\n",
    "param_grid_1 = {\n",
    "    'GBM__n_estimators': list(int(e) for e in np.linspace(40,100,21)),\n",
    "    'GBM__max_depth': list(range(1,13)),\n",
    "    'GBM__min_samples_leaf': [1,3,5],\n",
    "    'GBM__min_samples_split': [2,5,8]\n",
    "}\n",
    "rand_search_1 = RandomizedSearchCV(\n",
    "    estimator = pipe_r_tun_1,\n",
    "    param_distributions=param_grid_1, \n",
    "    n_iter=50,\n",
    "    scoring=smape,\n",
    "    cv=5,\n",
    "    verbose=2,\n",
    "    random_state=RANDOM_STATE,\n",
    "    n_jobs=-1,\n",
    "    return_train_score=True\n",
    ")\n",
    "retrain = 1\n",
    "if retrain:\n",
    "    rand_search_1.fit(X_train_rs, y_train_rs);\n",
    "else:\n",
    "    rand_search_1 = joblib.load('.\\Gradient_boosting_search_1.joblib')"
   ]
  },
  {
   "cell_type": "code",
   "execution_count": 84,
   "id": "agricultural-threat",
   "metadata": {},
   "outputs": [
    {
     "data": {
      "text/plain": [
       "{'GBM__n_estimators': 58,\n",
       " 'GBM__min_samples_split': 8,\n",
       " 'GBM__min_samples_leaf': 5,\n",
       " 'GBM__max_depth': 10}"
      ]
     },
     "execution_count": 84,
     "metadata": {},
     "output_type": "execute_result"
    }
   ],
   "source": [
    "rand_search_1.best_params_"
   ]
  },
  {
   "cell_type": "code",
   "execution_count": 85,
   "id": "explicit-statement",
   "metadata": {},
   "outputs": [
    {
     "data": {
      "text/plain": [
       "6.9280656889632475"
      ]
     },
     "execution_count": 85,
     "metadata": {},
     "output_type": "execute_result"
    }
   ],
   "source": [
    "rand_search_1.best_score_"
   ]
  },
  {
   "cell_type": "code",
   "execution_count": 86,
   "id": "liberal-julian",
   "metadata": {},
   "outputs": [
    {
     "data": {
      "text/plain": [
       "4.26335553794338"
      ]
     },
     "execution_count": 86,
     "metadata": {},
     "output_type": "execute_result"
    }
   ],
   "source": [
    "test = Pipeline([('Scaler', StandardScaler()), ('GBR',GradientBoostingRegressor(\n",
    "    n_estimators = 58,\n",
    "    min_samples_split = 8,\n",
    "    min_samples_leaf = 5,\n",
    "    max_depth = 10,\n",
    "    random_state=RANDOM_STATE))])\n",
    "test.fit(X_train_rs, y_train_rs)\n",
    "smape(test, X_test_rs, y_test_rs)"
   ]
  },
  {
   "cell_type": "markdown",
   "id": "applicable-prospect",
   "metadata": {},
   "source": [
    "> We did not find a propper model with the random grid search. Thus now some options are tried out manually:  \n",
    "> **Investigating depth, will be tested from 1-10**"
   ]
  },
  {
   "cell_type": "code",
   "execution_count": 87,
   "id": "sublime-majority",
   "metadata": {},
   "outputs": [],
   "source": [
    "# Splitting train in test and valid set to prevent overfitting\n",
    "X_train, X_valid, y_train, y_valid = train_test_split(\n",
    "    X_train_rs, y_train_rs, test_size=0.4, random_state=RANDOM_STATE)"
   ]
  },
  {
   "cell_type": "code",
   "execution_count": 88,
   "id": "fleet-battlefield",
   "metadata": {},
   "outputs": [
    {
     "name": "stdout",
     "output_type": "stream",
     "text": [
      "depth: 1, smape_valid: 4.756940\n",
      "depth: 2, smape_valid: 4.238662\n",
      "depth: 3, smape_valid: 3.850249\n",
      "depth: 4, smape_valid: 3.521341\n",
      "depth: 5, smape_valid: 3.322711\n",
      "depth: 6, smape_valid: 3.103963\n",
      "depth: 7, smape_valid: 2.989923\n",
      "depth: 8, smape_valid: 2.910212\n",
      "depth: 9, smape_valid: 2.900916\n",
      "depth: 10, smape_valid: 2.904478\n"
     ]
    }
   ],
   "source": [
    "# Train Linreg for rougher\n",
    "for depth in range(1,11):\n",
    "    pipe_man = Pipeline([('Scaler', StandardScaler()),\n",
    "                          ('LR', GradientBoostingRegressor(random_state=RANDOM_STATE, max_depth=depth))])\n",
    "    pipe_man.fit(X_train, y_train)\n",
    "    pred = pipe_man.predict(X_valid)\n",
    "    smape_ = smape_loss_func(y=y_valid, y_pred=pred)\n",
    "    print('depth: {}, smape_valid: {:5f}'.format(depth, smape_))"
   ]
  },
  {
   "cell_type": "code",
   "execution_count": 89,
   "id": "powerful-caution",
   "metadata": {},
   "outputs": [
    {
     "data": {
      "text/plain": [
       "4.55753306037037"
      ]
     },
     "execution_count": 89,
     "metadata": {},
     "output_type": "execute_result"
    }
   ],
   "source": [
    "# Vaidate with testset \n",
    "pipe_man = Pipeline([('Scaler', StandardScaler()),\n",
    "                      ('LR', GradientBoostingRegressor(random_state=RANDOM_STATE, max_depth=10))])\n",
    "pipe_man.fit(X_train, y_train)\n",
    "pred = pipe_man.predict(X_test_rs)\n",
    "smape_ = smape_loss_func(y=y_test_rs, y_pred=pred)\n",
    "smape_"
   ]
  },
  {
   "cell_type": "markdown",
   "id": "lucky-portable",
   "metadata": {},
   "source": [
    "> It seems that splitting the trainset for manual hyperparameter tuning is too small so that the theoretical improvements are not appying for the test set"
   ]
  },
  {
   "cell_type": "markdown",
   "id": "progressive-abraham",
   "metadata": {},
   "source": [
    "> **Observations:**\n",
    "> - The standard Gradiend boost regressor seems to be the best fitting for this problem"
   ]
  },
  {
   "cell_type": "markdown",
   "id": "collectible-ambassador",
   "metadata": {},
   "source": [
    "### 3.6. Combined\n"
   ]
  },
  {
   "cell_type": "code",
   "execution_count": 90,
   "id": "everyday-proceeding",
   "metadata": {},
   "outputs": [
    {
     "name": "stderr",
     "output_type": "stream",
     "text": [
      "C:\\Users\\JonathanLang\\.conda\\envs\\practicum\\lib\\site-packages\\sklearn\\ensemble\\forest.py:245: FutureWarning: The default value of n_estimators will change from 10 in version 0.20 to 100 in 0.22.\n",
      "  \"10 in version 0.20 to 100 in 0.22.\", FutureWarning)\n",
      "C:\\Users\\JonathanLang\\.conda\\envs\\practicum\\lib\\site-packages\\sklearn\\ensemble\\forest.py:245: FutureWarning: The default value of n_estimators will change from 10 in version 0.20 to 100 in 0.22.\n",
      "  \"10 in version 0.20 to 100 in 0.22.\", FutureWarning)\n"
     ]
    }
   ],
   "source": [
    "# Getting scores\n",
    "valid_r_sep = create_pipe()\n",
    "scores_rougher, _ = valid_piped_models(\n",
    "    valid_r_sep, X_test_rs, X_train_rs, y_test_rs, y_train_rs)\n",
    "\n",
    "valid_f_cs = create_pipe()\n",
    "scores_cleaner, _ = valid_piped_models(\n",
    "    valid_f_cs, X_test_cs, X_train_cs, y_test_cs, y_train_cs)"
   ]
  },
  {
   "cell_type": "code",
   "execution_count": 91,
   "id": "organizational-niger",
   "metadata": {},
   "outputs": [
    {
     "name": "stdout",
     "output_type": "stream",
     "text": [
      "Total sMAPE: 7.107829245051651\n"
     ]
    }
   ],
   "source": [
    "smape_total = .25 * min(scores_rougher) + .75 * min(scores_cleaner)\n",
    "print('Total sMAPE:', smape_total)"
   ]
  },
  {
   "cell_type": "markdown",
   "id": "improving-omega",
   "metadata": {},
   "source": [
    "# 4. Conclusion\n",
    "> Within this project the following steps have been carried out:\n",
    "> - Data preprocessing including filling missing values, removing invalid datapoints, adjusting the date and setting it as index\n",
    "> - Crosvalidation for two models, one for each step\n",
    "> - Training and evaluation of the models as well as calculation of the final sMAPE\n",
    "\n",
    "> The final models have an combined sMAPE of 7.1, which is high but acceprable For fututer improvements the filling approaches could be changed, further features could be measured or more datapoints could be used.  \n",
    "> The smape for the floatation process is much better thatn the one for the cleaning process. Maybe furter parameters which are availabe for the floatation process but not for the cleaning processes can be measured and implemented there in order to get a better result."
   ]
  }
 ],
 "metadata": {
  "kernelspec": {
   "display_name": "Python 3",
   "language": "python",
   "name": "python3"
  },
  "language_info": {
   "codemirror_mode": {
    "name": "ipython",
    "version": 3
   },
   "file_extension": ".py",
   "mimetype": "text/x-python",
   "name": "python",
   "nbconvert_exporter": "python",
   "pygments_lexer": "ipython3",
   "version": "3.7.1"
  },
  "toc": {
   "base_numbering": 1,
   "nav_menu": {},
   "number_sections": true,
   "sideBar": true,
   "skip_h1_title": true,
   "title_cell": "Table of Contents",
   "title_sidebar": "Contents",
   "toc_cell": false,
   "toc_position": {},
   "toc_section_display": true,
   "toc_window_display": false
  }
 },
 "nbformat": 4,
 "nbformat_minor": 5
}
